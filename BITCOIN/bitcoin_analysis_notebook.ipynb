{
  "cells": [
    {
      "cell_type": "markdown",
      "id": "41063cc2",
      "metadata": {
        "id": "41063cc2"
      },
      "source": [
        "Bitcoin Price Analysis with CoinGecko API\n",
        "=========================================="
      ]
    },
    {
      "cell_type": "code",
      "execution_count": 1,
      "id": "e1fd498f",
      "metadata": {
        "id": "e1fd498f"
      },
      "outputs": [],
      "source": [
        "import pandas as pd\n",
        "import plotly.graph_objects as go\n",
        "import plotly.offline as pyo"
      ]
    },
    {
      "cell_type": "markdown",
      "source": [
        "Installing and Importing CoinGecko API"
      ],
      "metadata": {
        "id": "hrqoLdqV6IzJ"
      },
      "id": "hrqoLdqV6IzJ"
    },
    {
      "cell_type": "code",
      "execution_count": 2,
      "id": "766b0f34",
      "metadata": {
        "colab": {
          "base_uri": "https://localhost:8080/"
        },
        "id": "766b0f34",
        "outputId": "0fdad762-37f6-4e66-e3b1-8c39a509f78a"
      },
      "outputs": [
        {
          "output_type": "stream",
          "name": "stdout",
          "text": [
            "Collecting pycoingecko\n",
            "  Downloading pycoingecko-3.2.0-py3-none-any.whl.metadata (16 kB)\n",
            "Requirement already satisfied: requests in /usr/local/lib/python3.11/dist-packages (from pycoingecko) (2.32.3)\n",
            "Requirement already satisfied: charset-normalizer<4,>=2 in /usr/local/lib/python3.11/dist-packages (from requests->pycoingecko) (3.4.2)\n",
            "Requirement already satisfied: idna<4,>=2.5 in /usr/local/lib/python3.11/dist-packages (from requests->pycoingecko) (3.10)\n",
            "Requirement already satisfied: urllib3<3,>=1.21.1 in /usr/local/lib/python3.11/dist-packages (from requests->pycoingecko) (2.4.0)\n",
            "Requirement already satisfied: certifi>=2017.4.17 in /usr/local/lib/python3.11/dist-packages (from requests->pycoingecko) (2025.4.26)\n",
            "Downloading pycoingecko-3.2.0-py3-none-any.whl (10 kB)\n",
            "Installing collected packages: pycoingecko\n",
            "Successfully installed pycoingecko-3.2.0\n",
            "CoinGecko API imported successfully\n"
          ]
        }
      ],
      "source": [
        "# Install pycoingecko if needed\n",
        "!pip install pycoingecko\n",
        "\n",
        "try:\n",
        "    from pycoingecko import CoinGeckoAPI\n",
        "    print(\"CoinGecko API imported successfully\")\n",
        "except ImportError:\n",
        "    print(\"PyCoingecko not installed. Run: pip install pycoingecko\")"
      ]
    },
    {
      "cell_type": "markdown",
      "source": [
        "Fetching Bitcoin Market Data"
      ],
      "metadata": {
        "id": "Lsdj2rDb6Op7"
      },
      "id": "Lsdj2rDb6Op7"
    },
    {
      "cell_type": "code",
      "execution_count": 3,
      "id": "13a77474",
      "metadata": {
        "colab": {
          "base_uri": "https://localhost:8080/"
        },
        "id": "13a77474",
        "outputId": "1ee19c98-2a1b-4d2e-a868-3bee22b4aed3"
      },
      "outputs": [
        {
          "output_type": "stream",
          "name": "stdout",
          "text": [
            "CoinGecko API initialized\n",
            "Fetching Bitcoin price data for past 30 days...\n",
            "Successfully fetched Bitcoin data\n",
            "Data keys: ['prices', 'market_caps', 'total_volumes']\n",
            "Price data points: 721\n"
          ]
        }
      ],
      "source": [
        "try:\n",
        "    # Initialize CoinGecko API\n",
        "    cg = CoinGeckoAPI()\n",
        "    print(\"CoinGecko API initialized\")\n",
        "\n",
        "    # Get Bitcoin market chart data for past 30 days\n",
        "    print(\"Fetching Bitcoin price data for past 30 days...\")\n",
        "    bitcoin_data = cg.get_coin_market_chart_by_id(\n",
        "        id='bitcoin',\n",
        "        vs_currency='usd',\n",
        "        days=30\n",
        "    )\n",
        "\n",
        "    print(f\"Successfully fetched Bitcoin data\")\n",
        "    print(f\"Data keys: {list(bitcoin_data.keys())}\")\n",
        "    print(f\"Price data points: {len(bitcoin_data['prices'])}\")\n",
        "\n",
        "except Exception as e:\n",
        "    print(f\"Error fetching data: {e}\")"
      ]
    },
    {
      "cell_type": "markdown",
      "source": [
        "Converting Data to DataFrame"
      ],
      "metadata": {
        "id": "vk40k0Wy6tbx"
      },
      "id": "vk40k0Wy6tbx"
    },
    {
      "cell_type": "code",
      "execution_count": 4,
      "id": "eb78b098",
      "metadata": {
        "colab": {
          "base_uri": "https://localhost:8080/"
        },
        "id": "eb78b098",
        "outputId": "ca4b74b6-6086-48ad-a489-7ecc53c94a43"
      },
      "outputs": [
        {
          "output_type": "stream",
          "name": "stdout",
          "text": [
            "Created DataFrame with shape: (721, 2)\n",
            "Converted timestamps to datetime\n",
            "\n",
            "Data Info:\n",
            "   Date range: 2025-05-11 04:04:33.743000 to 2025-06-10 03:37:37\n",
            "   Price range: $100983.60 to $111806.60\n",
            "   Average price: $105826.54\n",
            "\n",
            "Sample data:\n",
            "                     Date          Price\n",
            "0 2025-05-11 04:04:33.743  104056.371706\n",
            "1 2025-05-11 05:04:41.501  104155.909998\n",
            "2 2025-05-11 06:04:51.730  103870.884158\n",
            "3 2025-05-11 07:04:52.454  103829.809188\n",
            "4 2025-05-11 08:06:18.310  103593.918385\n"
          ]
        }
      ],
      "source": [
        "try:\n",
        "    # Convert price data to DataFrame\n",
        "    data = pd.DataFrame(bitcoin_data['prices'], columns=['TimeStamp', 'Price'])\n",
        "    print(f\"Created DataFrame with shape: {data.shape}\")\n",
        "\n",
        "    # Convert timestamp to datetime\n",
        "    data['Date'] = pd.to_datetime(data['TimeStamp'], unit='ms')\n",
        "    print(\"Converted timestamps to datetime\")\n",
        "\n",
        "    # Display basic info\n",
        "    print(f\"\\nData Info:\")\n",
        "    print(f\"   Date range: {data['Date'].min()} to {data['Date'].max()}\")\n",
        "    print(f\"   Price range: ${data['Price'].min():.2f} to ${data['Price'].max():.2f}\")\n",
        "    print(f\"   Average price: ${data['Price'].mean():.2f}\")\n",
        "\n",
        "    # Show sample data\n",
        "    print(f\"\\nSample data:\")\n",
        "    print(data[['Date', 'Price']].head())\n",
        "except Exception as e:\n",
        "    print(f\"Error processing data: {e}\")"
      ]
    },
    {
      "cell_type": "markdown",
      "source": [
        "Preparing Candlestick Data"
      ],
      "metadata": {
        "id": "EKarmlry61o4"
      },
      "id": "EKarmlry61o4"
    },
    {
      "cell_type": "code",
      "execution_count": 5,
      "id": "e206852e",
      "metadata": {
        "colab": {
          "base_uri": "https://localhost:8080/"
        },
        "id": "e206852e",
        "outputId": "dc189747-ff59-456c-82f3-34eb81f75e9a"
      },
      "outputs": [
        {
          "output_type": "stream",
          "name": "stdout",
          "text": [
            "Candlestick data shape: (31, 5)\n",
            "Sample candlestick data:\n",
            "         Date            min            max          first           last\n",
            "0  2025-05-11  103593.918385  104642.107893  104056.371706  103785.595390\n",
            "1  2025-05-12  101758.108960  104632.602361  104083.022801  102853.644071\n",
            "2  2025-05-13  101749.060160  104778.262185  102822.916795  104235.965957\n",
            "3  2025-05-14  103236.433831  104184.490393  104184.490393  103500.558030\n",
            "4  2025-05-15  101775.761206  103977.536746  103546.469182  103553.935064\n"
          ]
        }
      ],
      "source": [
        "try:\n",
        "    # Group by date to create OHLC (Open, High, Low, Close) data\n",
        "    candlestick_data = data.groupby(data.Date.dt.date).agg({\n",
        "        'Price': ['min', 'max', 'first', 'last']\n",
        "    })\n",
        "\n",
        "    # Flatten column names\n",
        "    candlestick_data.columns = ['min', 'max', 'first', 'last']\n",
        "    candlestick_data.reset_index(inplace=True)\n",
        "\n",
        "    print(f\"Candlestick data shape: {candlestick_data.shape}\")\n",
        "    print(f\"Sample candlestick data:\")\n",
        "    print(candlestick_data.head())\n",
        "except Exception as e:\n",
        "    print(f\"Error creating candlestick data: {e}\")"
      ]
    },
    {
      "cell_type": "markdown",
      "source": [
        "Creating Interactive Candlestick Chart"
      ],
      "metadata": {
        "id": "kejnm_686_OO"
      },
      "id": "kejnm_686_OO"
    },
    {
      "cell_type": "code",
      "execution_count": 6,
      "id": "53ad077c",
      "metadata": {
        "colab": {
          "base_uri": "https://localhost:8080/",
          "height": 578
        },
        "id": "53ad077c",
        "outputId": "0beee3b7-fb8a-4fbf-ac45-b6086d54f4d4"
      },
      "outputs": [
        {
          "output_type": "stream",
          "name": "stdout",
          "text": [
            "Candlestick chart created successfully\n",
            "Chart saved as 'bitcoin_candlestick_chart.html'\n"
          ]
        },
        {
          "output_type": "display_data",
          "data": {
            "text/html": [
              "<html>\n",
              "<head><meta charset=\"utf-8\" /></head>\n",
              "<body>\n",
              "    <div>            <script src=\"https://cdnjs.cloudflare.com/ajax/libs/mathjax/2.7.5/MathJax.js?config=TeX-AMS-MML_SVG\"></script><script type=\"text/javascript\">if (window.MathJax && window.MathJax.Hub && window.MathJax.Hub.Config) {window.MathJax.Hub.Config({SVG: {font: \"STIX-Web\"}});}</script>                <script type=\"text/javascript\">window.PlotlyConfig = {MathJaxConfig: 'local'};</script>\n",
              "        <script charset=\"utf-8\" src=\"https://cdn.plot.ly/plotly-2.35.2.min.js\"></script>                <div id=\"7d099063-9c1c-4fa2-a563-8ed67b478104\" class=\"plotly-graph-div\" style=\"height:525px; width:100%;\"></div>            <script type=\"text/javascript\">                                    window.PLOTLYENV=window.PLOTLYENV || {};                                    if (document.getElementById(\"7d099063-9c1c-4fa2-a563-8ed67b478104\")) {                    Plotly.newPlot(                        \"7d099063-9c1c-4fa2-a563-8ed67b478104\",                        [{\"close\":[103785.595389775,102853.64407073468,104235.96595683586,103500.55803017515,103553.93506366151,103467.28985993791,103058.42662008991,105427.48904875397,105563.46876771093,106566.5101429697,108802.10768508335,111096.21954213973,107925.98663757442,108324.50385270145,108943.10357431156,109324.18231895837,109024.62093375555,107434.48106938627,106079.31761099242,104205.17451736565,104724.25519371904,105570.88548761408,105689.76014869151,105861.43112119468,104893.31963210164,101578.2036315807,104461.5344281458,105877.88107706241,105859.29070841393,110191.90634892028,109468.51524606264],\"high\":[104642.10789268535,104632.60236125204,104778.26218485396,104184.49039270742,103977.5367463436,104209.18515019871,103624.29922408522,105617.89582136768,106139.68550864227,106873.03984532565,109467.65393142396,111806.59824511288,111604.40010039737,109293.09324020769,108943.10357431156,110094.41474441695,110370.16947230526,109079.40649336847,108776.46456114404,106137.02262895752,104889.22082341903,105570.88548761408,105698.43787667034,106723.28639087187,105760.43175456114,105677.91848447545,105066.03741127625,105879.205828614,106348.57213757417,110191.90634892028,110265.69002155038],\"low\":[103593.91838549759,101758.10895980781,101749.06016032975,103236.43383121496,101775.76120644069,103448.92558696079,102770.92765223501,103194.65650649132,102381.2104823244,104387.66509118448,106229.4484508103,109665.86371625263,107925.98663757442,107216.66856870624,107008.50025844328,108900.60971032295,108291.51316543337,107224.6662536516,105795.87862075334,104172.41321473155,103414.43956180367,103943.43968854116,103984.23164102003,105056.7992005663,104713.93690550917,100983.60135527559,101597.8403831928,104409.74967959142,105223.76329644934,105443.99008599298,109468.51524606264],\"open\":[104056.37170558948,104083.02280094857,102822.91679502407,104184.49039270742,103546.46918182234,103782.3671140446,103533.26669721663,103194.65650649132,106139.68550864227,105663.20354903601,106798.53751514817,109665.86371625263,111579.18064152761,107216.66856870624,107819.03500967441,108900.60971032295,109393.7426319189,109068.45694901445,107830.09824019176,105719.8746352865,104020.87024454171,104686.33390404454,105698.43787667034,105883.83175718882,105430.86066799659,104803.00653561577,101597.8403831928,104409.74967959142,105665.12362716689,105724.23517396167,110265.69002155038],\"x\":[0,1,2,3,4,5,6,7,8,9,10,11,12,13,14,15,16,17,18,19,20,21,22,23,24,25,26,27,28,29,30],\"type\":\"candlestick\"}],                        {\"template\":{\"data\":{\"barpolar\":[{\"marker\":{\"line\":{\"color\":\"white\",\"width\":0.5},\"pattern\":{\"fillmode\":\"overlay\",\"size\":10,\"solidity\":0.2}},\"type\":\"barpolar\"}],\"bar\":[{\"error_x\":{\"color\":\"#2a3f5f\"},\"error_y\":{\"color\":\"#2a3f5f\"},\"marker\":{\"line\":{\"color\":\"white\",\"width\":0.5},\"pattern\":{\"fillmode\":\"overlay\",\"size\":10,\"solidity\":0.2}},\"type\":\"bar\"}],\"carpet\":[{\"aaxis\":{\"endlinecolor\":\"#2a3f5f\",\"gridcolor\":\"#C8D4E3\",\"linecolor\":\"#C8D4E3\",\"minorgridcolor\":\"#C8D4E3\",\"startlinecolor\":\"#2a3f5f\"},\"baxis\":{\"endlinecolor\":\"#2a3f5f\",\"gridcolor\":\"#C8D4E3\",\"linecolor\":\"#C8D4E3\",\"minorgridcolor\":\"#C8D4E3\",\"startlinecolor\":\"#2a3f5f\"},\"type\":\"carpet\"}],\"choropleth\":[{\"colorbar\":{\"outlinewidth\":0,\"ticks\":\"\"},\"type\":\"choropleth\"}],\"contourcarpet\":[{\"colorbar\":{\"outlinewidth\":0,\"ticks\":\"\"},\"type\":\"contourcarpet\"}],\"contour\":[{\"colorbar\":{\"outlinewidth\":0,\"ticks\":\"\"},\"colorscale\":[[0.0,\"#0d0887\"],[0.1111111111111111,\"#46039f\"],[0.2222222222222222,\"#7201a8\"],[0.3333333333333333,\"#9c179e\"],[0.4444444444444444,\"#bd3786\"],[0.5555555555555556,\"#d8576b\"],[0.6666666666666666,\"#ed7953\"],[0.7777777777777778,\"#fb9f3a\"],[0.8888888888888888,\"#fdca26\"],[1.0,\"#f0f921\"]],\"type\":\"contour\"}],\"heatmapgl\":[{\"colorbar\":{\"outlinewidth\":0,\"ticks\":\"\"},\"colorscale\":[[0.0,\"#0d0887\"],[0.1111111111111111,\"#46039f\"],[0.2222222222222222,\"#7201a8\"],[0.3333333333333333,\"#9c179e\"],[0.4444444444444444,\"#bd3786\"],[0.5555555555555556,\"#d8576b\"],[0.6666666666666666,\"#ed7953\"],[0.7777777777777778,\"#fb9f3a\"],[0.8888888888888888,\"#fdca26\"],[1.0,\"#f0f921\"]],\"type\":\"heatmapgl\"}],\"heatmap\":[{\"colorbar\":{\"outlinewidth\":0,\"ticks\":\"\"},\"colorscale\":[[0.0,\"#0d0887\"],[0.1111111111111111,\"#46039f\"],[0.2222222222222222,\"#7201a8\"],[0.3333333333333333,\"#9c179e\"],[0.4444444444444444,\"#bd3786\"],[0.5555555555555556,\"#d8576b\"],[0.6666666666666666,\"#ed7953\"],[0.7777777777777778,\"#fb9f3a\"],[0.8888888888888888,\"#fdca26\"],[1.0,\"#f0f921\"]],\"type\":\"heatmap\"}],\"histogram2dcontour\":[{\"colorbar\":{\"outlinewidth\":0,\"ticks\":\"\"},\"colorscale\":[[0.0,\"#0d0887\"],[0.1111111111111111,\"#46039f\"],[0.2222222222222222,\"#7201a8\"],[0.3333333333333333,\"#9c179e\"],[0.4444444444444444,\"#bd3786\"],[0.5555555555555556,\"#d8576b\"],[0.6666666666666666,\"#ed7953\"],[0.7777777777777778,\"#fb9f3a\"],[0.8888888888888888,\"#fdca26\"],[1.0,\"#f0f921\"]],\"type\":\"histogram2dcontour\"}],\"histogram2d\":[{\"colorbar\":{\"outlinewidth\":0,\"ticks\":\"\"},\"colorscale\":[[0.0,\"#0d0887\"],[0.1111111111111111,\"#46039f\"],[0.2222222222222222,\"#7201a8\"],[0.3333333333333333,\"#9c179e\"],[0.4444444444444444,\"#bd3786\"],[0.5555555555555556,\"#d8576b\"],[0.6666666666666666,\"#ed7953\"],[0.7777777777777778,\"#fb9f3a\"],[0.8888888888888888,\"#fdca26\"],[1.0,\"#f0f921\"]],\"type\":\"histogram2d\"}],\"histogram\":[{\"marker\":{\"pattern\":{\"fillmode\":\"overlay\",\"size\":10,\"solidity\":0.2}},\"type\":\"histogram\"}],\"mesh3d\":[{\"colorbar\":{\"outlinewidth\":0,\"ticks\":\"\"},\"type\":\"mesh3d\"}],\"parcoords\":[{\"line\":{\"colorbar\":{\"outlinewidth\":0,\"ticks\":\"\"}},\"type\":\"parcoords\"}],\"pie\":[{\"automargin\":true,\"type\":\"pie\"}],\"scatter3d\":[{\"line\":{\"colorbar\":{\"outlinewidth\":0,\"ticks\":\"\"}},\"marker\":{\"colorbar\":{\"outlinewidth\":0,\"ticks\":\"\"}},\"type\":\"scatter3d\"}],\"scattercarpet\":[{\"marker\":{\"colorbar\":{\"outlinewidth\":0,\"ticks\":\"\"}},\"type\":\"scattercarpet\"}],\"scattergeo\":[{\"marker\":{\"colorbar\":{\"outlinewidth\":0,\"ticks\":\"\"}},\"type\":\"scattergeo\"}],\"scattergl\":[{\"marker\":{\"colorbar\":{\"outlinewidth\":0,\"ticks\":\"\"}},\"type\":\"scattergl\"}],\"scattermapbox\":[{\"marker\":{\"colorbar\":{\"outlinewidth\":0,\"ticks\":\"\"}},\"type\":\"scattermapbox\"}],\"scatterpolargl\":[{\"marker\":{\"colorbar\":{\"outlinewidth\":0,\"ticks\":\"\"}},\"type\":\"scatterpolargl\"}],\"scatterpolar\":[{\"marker\":{\"colorbar\":{\"outlinewidth\":0,\"ticks\":\"\"}},\"type\":\"scatterpolar\"}],\"scatter\":[{\"fillpattern\":{\"fillmode\":\"overlay\",\"size\":10,\"solidity\":0.2},\"type\":\"scatter\"}],\"scatterternary\":[{\"marker\":{\"colorbar\":{\"outlinewidth\":0,\"ticks\":\"\"}},\"type\":\"scatterternary\"}],\"surface\":[{\"colorbar\":{\"outlinewidth\":0,\"ticks\":\"\"},\"colorscale\":[[0.0,\"#0d0887\"],[0.1111111111111111,\"#46039f\"],[0.2222222222222222,\"#7201a8\"],[0.3333333333333333,\"#9c179e\"],[0.4444444444444444,\"#bd3786\"],[0.5555555555555556,\"#d8576b\"],[0.6666666666666666,\"#ed7953\"],[0.7777777777777778,\"#fb9f3a\"],[0.8888888888888888,\"#fdca26\"],[1.0,\"#f0f921\"]],\"type\":\"surface\"}],\"table\":[{\"cells\":{\"fill\":{\"color\":\"#EBF0F8\"},\"line\":{\"color\":\"white\"}},\"header\":{\"fill\":{\"color\":\"#C8D4E3\"},\"line\":{\"color\":\"white\"}},\"type\":\"table\"}]},\"layout\":{\"annotationdefaults\":{\"arrowcolor\":\"#2a3f5f\",\"arrowhead\":0,\"arrowwidth\":1},\"autotypenumbers\":\"strict\",\"coloraxis\":{\"colorbar\":{\"outlinewidth\":0,\"ticks\":\"\"}},\"colorscale\":{\"diverging\":[[0,\"#8e0152\"],[0.1,\"#c51b7d\"],[0.2,\"#de77ae\"],[0.3,\"#f1b6da\"],[0.4,\"#fde0ef\"],[0.5,\"#f7f7f7\"],[0.6,\"#e6f5d0\"],[0.7,\"#b8e186\"],[0.8,\"#7fbc41\"],[0.9,\"#4d9221\"],[1,\"#276419\"]],\"sequential\":[[0.0,\"#0d0887\"],[0.1111111111111111,\"#46039f\"],[0.2222222222222222,\"#7201a8\"],[0.3333333333333333,\"#9c179e\"],[0.4444444444444444,\"#bd3786\"],[0.5555555555555556,\"#d8576b\"],[0.6666666666666666,\"#ed7953\"],[0.7777777777777778,\"#fb9f3a\"],[0.8888888888888888,\"#fdca26\"],[1.0,\"#f0f921\"]],\"sequentialminus\":[[0.0,\"#0d0887\"],[0.1111111111111111,\"#46039f\"],[0.2222222222222222,\"#7201a8\"],[0.3333333333333333,\"#9c179e\"],[0.4444444444444444,\"#bd3786\"],[0.5555555555555556,\"#d8576b\"],[0.6666666666666666,\"#ed7953\"],[0.7777777777777778,\"#fb9f3a\"],[0.8888888888888888,\"#fdca26\"],[1.0,\"#f0f921\"]]},\"colorway\":[\"#636efa\",\"#EF553B\",\"#00cc96\",\"#ab63fa\",\"#FFA15A\",\"#19d3f3\",\"#FF6692\",\"#B6E880\",\"#FF97FF\",\"#FECB52\"],\"font\":{\"color\":\"#2a3f5f\"},\"geo\":{\"bgcolor\":\"white\",\"lakecolor\":\"white\",\"landcolor\":\"white\",\"showlakes\":true,\"showland\":true,\"subunitcolor\":\"#C8D4E3\"},\"hoverlabel\":{\"align\":\"left\"},\"hovermode\":\"closest\",\"mapbox\":{\"style\":\"light\"},\"paper_bgcolor\":\"white\",\"plot_bgcolor\":\"white\",\"polar\":{\"angularaxis\":{\"gridcolor\":\"#EBF0F8\",\"linecolor\":\"#EBF0F8\",\"ticks\":\"\"},\"bgcolor\":\"white\",\"radialaxis\":{\"gridcolor\":\"#EBF0F8\",\"linecolor\":\"#EBF0F8\",\"ticks\":\"\"}},\"scene\":{\"xaxis\":{\"backgroundcolor\":\"white\",\"gridcolor\":\"#DFE8F3\",\"gridwidth\":2,\"linecolor\":\"#EBF0F8\",\"showbackground\":true,\"ticks\":\"\",\"zerolinecolor\":\"#EBF0F8\"},\"yaxis\":{\"backgroundcolor\":\"white\",\"gridcolor\":\"#DFE8F3\",\"gridwidth\":2,\"linecolor\":\"#EBF0F8\",\"showbackground\":true,\"ticks\":\"\",\"zerolinecolor\":\"#EBF0F8\"},\"zaxis\":{\"backgroundcolor\":\"white\",\"gridcolor\":\"#DFE8F3\",\"gridwidth\":2,\"linecolor\":\"#EBF0F8\",\"showbackground\":true,\"ticks\":\"\",\"zerolinecolor\":\"#EBF0F8\"}},\"shapedefaults\":{\"line\":{\"color\":\"#2a3f5f\"}},\"ternary\":{\"aaxis\":{\"gridcolor\":\"#DFE8F3\",\"linecolor\":\"#A2B1C6\",\"ticks\":\"\"},\"baxis\":{\"gridcolor\":\"#DFE8F3\",\"linecolor\":\"#A2B1C6\",\"ticks\":\"\"},\"bgcolor\":\"white\",\"caxis\":{\"gridcolor\":\"#DFE8F3\",\"linecolor\":\"#A2B1C6\",\"ticks\":\"\"}},\"title\":{\"x\":0.05},\"xaxis\":{\"automargin\":true,\"gridcolor\":\"#EBF0F8\",\"linecolor\":\"#EBF0F8\",\"ticks\":\"\",\"title\":{\"standoff\":15},\"zerolinecolor\":\"#EBF0F8\",\"zerolinewidth\":2},\"yaxis\":{\"automargin\":true,\"gridcolor\":\"#EBF0F8\",\"linecolor\":\"#EBF0F8\",\"ticks\":\"\",\"title\":{\"standoff\":15},\"zerolinecolor\":\"#EBF0F8\",\"zerolinewidth\":2}}},\"xaxis\":{\"rangeslider\":{\"visible\":false},\"title\":{\"text\":\"Date\"}},\"yaxis\":{\"title\":{\"text\":\"Price (USD $)\"}},\"title\":{\"text\":\"Bitcoin Candlestick Chart Over Past 30 Days\"}},                        {\"responsive\": true}                    ).then(function(){\n",
              "                            \n",
              "var gd = document.getElementById('7d099063-9c1c-4fa2-a563-8ed67b478104');\n",
              "var x = new MutationObserver(function (mutations, observer) {{\n",
              "        var display = window.getComputedStyle(gd).display;\n",
              "        if (!display || display === 'none') {{\n",
              "            console.log([gd, 'removed!']);\n",
              "            Plotly.purge(gd);\n",
              "            observer.disconnect();\n",
              "        }}\n",
              "}});\n",
              "\n",
              "// Listen for the removal of the full notebook cells\n",
              "var notebookContainer = gd.closest('#notebook-container');\n",
              "if (notebookContainer) {{\n",
              "    x.observe(notebookContainer, {childList: true});\n",
              "}}\n",
              "\n",
              "// Listen for the clearing of the current output cell\n",
              "var outputEl = gd.closest('.output');\n",
              "if (outputEl) {{\n",
              "    x.observe(outputEl, {childList: true});\n",
              "}}\n",
              "\n",
              "                        })                };                            </script>        </div>\n",
              "</body>\n",
              "</html>"
            ]
          },
          "metadata": {}
        }
      ],
      "source": [
        "try:\n",
        "    # Create candlestick chart using Plotly\n",
        "    fig = go.Figure(data=[go.Candlestick(\n",
        "        x=candlestick_data.index,\n",
        "        open=candlestick_data['first'],\n",
        "        high=candlestick_data['max'],\n",
        "        low=candlestick_data['min'],\n",
        "        close=candlestick_data['last']\n",
        "    )])\n",
        "\n",
        "    # Update layout\n",
        "    fig.update_layout(\n",
        "        xaxis_rangeslider_visible=False,\n",
        "        xaxis_title='Date',\n",
        "        yaxis_title='Price (USD $)',\n",
        "        title='Bitcoin Candlestick Chart Over Past 30 Days',\n",
        "        template='plotly_white'\n",
        "    )\n",
        "\n",
        "    print(\"Candlestick chart created successfully\")\n",
        "\n",
        "    # Save chart as HTML file\n",
        "    pyo.plot(fig, filename='bitcoin_candlestick_chart.html', auto_open=False)\n",
        "    print(\"Chart saved as 'bitcoin_candlestick_chart.html'\")\n",
        "\n",
        "    # Display chart (in Jupyter notebook this would show inline)\n",
        "    fig.show()\n",
        "except Exception as e:\n",
        "    print(f\"Error creating chart: {e}\")"
      ]
    },
    {
      "cell_type": "markdown",
      "source": [
        "Additional Market Analysis"
      ],
      "metadata": {
        "id": "OnMl45BL7HRO"
      },
      "id": "OnMl45BL7HRO"
    },
    {
      "cell_type": "code",
      "execution_count": 7,
      "id": "753b9304",
      "metadata": {
        "colab": {
          "base_uri": "https://localhost:8080/"
        },
        "id": "753b9304",
        "outputId": "65f77797-33af-4cfd-8d1d-4245f8ffe373"
      },
      "outputs": [
        {
          "output_type": "stream",
          "name": "stdout",
          "text": [
            "Price Analysis:\n",
            "   Starting price: $104056.37\n",
            "   Ending price: $109468.52\n",
            "   Price change: $5412.14 (5.20%)\n",
            "   Volatility (std): $2392.26\n",
            "\n",
            "Daily Change Analysis:\n",
            "   Average daily change: 0.01%\n",
            "   Max daily gain: 1.29%\n",
            "   Max daily loss: -2.38%\n"
          ]
        }
      ],
      "source": [
        "try:\n",
        "    # Price statistics\n",
        "    price_change = data['Price'].iloc[-1] - data['Price'].iloc[0]\n",
        "    price_change_pct = (price_change / data['Price'].iloc[0]) * 100\n",
        "    volatility = data['Price'].std()\n",
        "\n",
        "    print(f\"Price Analysis:\")\n",
        "    print(f\"   Starting price: ${data['Price'].iloc[0]:.2f}\")\n",
        "    print(f\"   Ending price: ${data['Price'].iloc[-1]:.2f}\")\n",
        "    print(f\"   Price change: ${price_change:.2f} ({price_change_pct:.2f}%)\")\n",
        "    print(f\"   Volatility (std): ${volatility:.2f}\")\n",
        "\n",
        "    # Daily price changes\n",
        "    data['Daily_Change'] = data['Price'].pct_change() * 100\n",
        "    daily_changes = data['Daily_Change'].dropna()\n",
        "\n",
        "    print(f\"\\nDaily Change Analysis:\")\n",
        "    print(f\"   Average daily change: {daily_changes.mean():.2f}%\")\n",
        "    print(f\"   Max daily gain: {daily_changes.max():.2f}%\")\n",
        "    print(f\"   Max daily loss: {daily_changes.min():.2f}%\")\n",
        "except Exception as e:\n",
        "    print(f\"Error in analysis: {e}\")"
      ]
    },
    {
      "cell_type": "markdown",
      "source": [
        "Creating Simple Price Trend Chart"
      ],
      "metadata": {
        "id": "lBBm_wRB7K2G"
      },
      "id": "lBBm_wRB7K2G"
    },
    {
      "cell_type": "code",
      "execution_count": 8,
      "id": "7ca2bc6d",
      "metadata": {
        "colab": {
          "base_uri": "https://localhost:8080/",
          "height": 560
        },
        "id": "7ca2bc6d",
        "outputId": "514986be-cf2c-40c4-b30a-7d63065b3991"
      },
      "outputs": [
        {
          "output_type": "stream",
          "name": "stdout",
          "text": [
            "Price trend chart saved as 'bitcoin_price_trend.html'\n"
          ]
        },
        {
          "output_type": "display_data",
          "data": {
            "text/html": [
              "<html>\n",
              "<head><meta charset=\"utf-8\" /></head>\n",
              "<body>\n",
              "    <div>            <script src=\"https://cdnjs.cloudflare.com/ajax/libs/mathjax/2.7.5/MathJax.js?config=TeX-AMS-MML_SVG\"></script><script type=\"text/javascript\">if (window.MathJax && window.MathJax.Hub && window.MathJax.Hub.Config) {window.MathJax.Hub.Config({SVG: {font: \"STIX-Web\"}});}</script>                <script type=\"text/javascript\">window.PlotlyConfig = {MathJaxConfig: 'local'};</script>\n",
              "        <script charset=\"utf-8\" src=\"https://cdn.plot.ly/plotly-2.35.2.min.js\"></script>                <div id=\"f5ce7966-8b21-4d86-b13d-081abe85bd9c\" class=\"plotly-graph-div\" style=\"height:525px; width:100%;\"></div>            <script type=\"text/javascript\">                                    window.PLOTLYENV=window.PLOTLYENV || {};                                    if (document.getElementById(\"f5ce7966-8b21-4d86-b13d-081abe85bd9c\")) {                    Plotly.newPlot(                        \"f5ce7966-8b21-4d86-b13d-081abe85bd9c\",                        [{\"line\":{\"color\":\"orange\",\"width\":2},\"mode\":\"lines\",\"name\":\"Bitcoin Price\",\"x\":[\"2025-05-11T04:04:33.743000\",\"2025-05-11T05:04:41.501000\",\"2025-05-11T06:04:51.730000\",\"2025-05-11T07:04:52.454000\",\"2025-05-11T08:06:18.310000\",\"2025-05-11T09:04:54.447000\",\"2025-05-11T10:04:58.584000\",\"2025-05-11T11:05:27.215000\",\"2025-05-11T12:04:48.488000\",\"2025-05-11T13:04:25.369000\",\"2025-05-11T14:03:51.944000\",\"2025-05-11T15:04:35.568000\",\"2025-05-11T16:04:58.712000\",\"2025-05-11T17:04:57.786000\",\"2025-05-11T18:09:22.284000\",\"2025-05-11T19:04:45.220000\",\"2025-05-11T20:04:27.577000\",\"2025-05-11T21:04:56.268000\",\"2025-05-11T22:04:59.902000\",\"2025-05-11T23:03:08.661000\",\"2025-05-12T00:04:57.739000\",\"2025-05-12T01:09:33.733000\",\"2025-05-12T02:01:56.643000\",\"2025-05-12T03:04:44.612000\",\"2025-05-12T04:03:13.289000\",\"2025-05-12T05:01:41.068000\",\"2025-05-12T06:01:50.339000\",\"2025-05-12T07:04:45.494000\",\"2025-05-12T08:09:32.357000\",\"2025-05-12T09:03:41.094000\",\"2025-05-12T10:04:37.114000\",\"2025-05-12T11:03:09.925000\",\"2025-05-12T12:02:22.056000\",\"2025-05-12T13:04:51.035000\",\"2025-05-12T14:03:24.602000\",\"2025-05-12T15:04:37.769000\",\"2025-05-12T16:03:14.699000\",\"2025-05-12T17:04:38.239000\",\"2025-05-12T18:04:58.475000\",\"2025-05-12T19:07:20.125000\",\"2025-05-12T20:04:59.903000\",\"2025-05-12T21:04:45.135000\",\"2025-05-12T22:09:18.243000\",\"2025-05-12T23:04:26.321000\",\"2025-05-13T00:04:54.761000\",\"2025-05-13T01:04:59.798000\",\"2025-05-13T02:04:57.284000\",\"2025-05-13T03:02:31.479000\",\"2025-05-13T04:04:41.143000\",\"2025-05-13T05:04:52.999000\",\"2025-05-13T06:01:04.658000\",\"2025-05-13T07:04:55.576000\",\"2025-05-13T08:02:10.510000\",\"2025-05-13T09:04:52.839000\",\"2025-05-13T10:04:51.707000\",\"2025-05-13T11:04:50.315000\",\"2025-05-13T12:04:50.096000\",\"2025-05-13T13:09:11.149000\",\"2025-05-13T14:06:50.452000\",\"2025-05-13T15:02:14.402000\",\"2025-05-13T16:05:00.386000\",\"2025-05-13T17:04:48.074000\",\"2025-05-13T18:01:42.624000\",\"2025-05-13T19:04:43.717000\",\"2025-05-13T20:04:41.364000\",\"2025-05-13T21:02:49.134000\",\"2025-05-13T22:09:02.036000\",\"2025-05-13T23:04:28.482000\",\"2025-05-14T00:04:55.247000\",\"2025-05-14T01:04:38.428000\",\"2025-05-14T02:04:47.816000\",\"2025-05-14T03:04:23.157000\",\"2025-05-14T04:07:25.977000\",\"2025-05-14T05:04:14.941000\",\"2025-05-14T06:04:46.847000\",\"2025-05-14T07:07:14.462000\",\"2025-05-14T08:02:25.693000\",\"2025-05-14T09:04:40.480000\",\"2025-05-14T10:03:59.301000\",\"2025-05-14T11:04:56.362000\",\"2025-05-14T12:09:09.247000\",\"2025-05-14T13:06:10.803000\",\"2025-05-14T14:04:29.437000\",\"2025-05-14T15:18:26.230000\",\"2025-05-14T16:04:49.308000\",\"2025-05-14T17:06:29.909000\",\"2025-05-14T18:11:37.277000\",\"2025-05-14T19:04:41.943000\",\"2025-05-14T20:09:55.331000\",\"2025-05-14T21:04:55.158000\",\"2025-05-14T22:05:59.187000\",\"2025-05-14T23:04:39.457000\",\"2025-05-15T00:01:30.831000\",\"2025-05-15T01:07:45.691000\",\"2025-05-15T02:07:41.935000\",\"2025-05-15T03:06:32.292000\",\"2025-05-15T04:09:06.605000\",\"2025-05-15T05:04:42.645000\",\"2025-05-15T06:09:54.305000\",\"2025-05-15T07:09:03.317000\",\"2025-05-15T08:04:47.926000\",\"2025-05-15T09:09:55.460000\",\"2025-05-15T10:09:46.624000\",\"2025-05-15T11:09:47.897000\",\"2025-05-15T12:09:29.901000\",\"2025-05-15T13:04:54.118000\",\"2025-05-15T14:06:34.803000\",\"2025-05-15T15:04:50.299000\",\"2025-05-15T16:04:55.461000\",\"2025-05-15T17:07:31.765000\",\"2025-05-15T18:09:34.005000\",\"2025-05-15T19:03:02.209000\",\"2025-05-15T20:04:59.415000\",\"2025-05-15T21:04:57.432000\",\"2025-05-15T22:04:52.893000\",\"2025-05-15T23:08:50.326000\",\"2025-05-16T00:09:52.942000\",\"2025-05-16T01:09:59.990000\",\"2025-05-16T02:09:46.666000\",\"2025-05-16T03:04:37.759000\",\"2025-05-16T04:04:55.983000\",\"2025-05-16T05:09:53.147000\",\"2025-05-16T06:08:32.591000\",\"2025-05-16T07:04:55.010000\",\"2025-05-16T08:07:16.320000\",\"2025-05-16T09:09:52.578000\",\"2025-05-16T10:04:44.423000\",\"2025-05-16T11:08:18.896000\",\"2025-05-16T12:01:09.062000\",\"2025-05-16T13:04:53.085000\",\"2025-05-16T14:05:00.515000\",\"2025-05-16T15:04:01.870000\",\"2025-05-16T16:09:49.969000\",\"2025-05-16T17:04:23.203000\",\"2025-05-16T18:04:38.044000\",\"2025-05-16T19:04:59.413000\",\"2025-05-16T20:04:58.487000\",\"2025-05-16T21:04:51.917000\",\"2025-05-16T22:04:58.222000\",\"2025-05-16T23:04:33.139000\",\"2025-05-17T00:09:40.062000\",\"2025-05-17T01:04:57.036000\",\"2025-05-17T02:04:54.627000\",\"2025-05-17T03:09:36.276000\",\"2025-05-17T04:04:41.885000\",\"2025-05-17T05:06:11.449000\",\"2025-05-17T06:04:49.765000\",\"2025-05-17T07:09:34.446000\",\"2025-05-17T08:09:21.812000\",\"2025-05-17T09:09:45.561000\",\"2025-05-17T10:09:45.506000\",\"2025-05-17T11:08:16.204000\",\"2025-05-17T12:04:43.260000\",\"2025-05-17T13:04:59.926000\",\"2025-05-17T14:05:34.448000\",\"2025-05-17T15:02:24.629000\",\"2025-05-17T16:04:29.896000\",\"2025-05-17T17:08:30.636000\",\"2025-05-17T18:04:45.129000\",\"2025-05-17T19:04:11.011000\",\"2025-05-17T20:09:43.594000\",\"2025-05-17T21:04:31.186000\",\"2025-05-17T22:04:45.468000\",\"2025-05-17T23:04:50.206000\",\"2025-05-18T00:06:32.399000\",\"2025-05-18T01:04:54.044000\",\"2025-05-18T02:04:49.672000\",\"2025-05-18T03:04:56.266000\",\"2025-05-18T04:04:46.830000\",\"2025-05-18T05:05:28.844000\",\"2025-05-18T06:04:10.198000\",\"2025-05-18T07:04:40.548000\",\"2025-05-18T08:07:28.149000\",\"2025-05-18T09:01:59.763000\",\"2025-05-18T10:04:36.090000\",\"2025-05-18T11:00:42.740000\",\"2025-05-18T12:03:35.684000\",\"2025-05-18T13:07:50.856000\",\"2025-05-18T14:03:08.199000\",\"2025-05-18T15:05:56.300000\",\"2025-05-18T16:02:00.858000\",\"2025-05-18T17:09:45.493000\",\"2025-05-18T18:04:51.334000\",\"2025-05-18T19:01:28.391000\",\"2025-05-18T20:09:36.186000\",\"2025-05-18T21:04:46.978000\",\"2025-05-18T22:04:39.901000\",\"2025-05-18T23:04:41.679000\",\"2025-05-19T00:02:08.131000\",\"2025-05-19T01:09:40.508000\",\"2025-05-19T02:04:50.863000\",\"2025-05-19T03:05:32.868000\",\"2025-05-19T04:04:58.596000\",\"2025-05-19T05:04:42.328000\",\"2025-05-19T06:01:00.737000\",\"2025-05-19T07:04:33.396000\",\"2025-05-19T08:06:40.888000\",\"2025-05-19T09:04:59.783000\",\"2025-05-19T10:09:48.309000\",\"2025-05-19T11:04:51.669000\",\"2025-05-19T12:02:58.324000\",\"2025-05-19T13:04:52.399000\",\"2025-05-19T14:02:36.424000\",\"2025-05-19T15:07:55.091000\",\"2025-05-19T16:06:16.102000\",\"2025-05-19T17:09:54.286000\",\"2025-05-19T18:09:44.875000\",\"2025-05-19T19:02:32.435000\",\"2025-05-19T20:09:32.013000\",\"2025-05-19T21:09:50.298000\",\"2025-05-19T22:03:49.297000\",\"2025-05-19T23:02:45.398000\",\"2025-05-20T00:09:37.157000\",\"2025-05-20T01:12:29.720000\",\"2025-05-20T02:07:37.659000\",\"2025-05-20T03:04:49.896000\",\"2025-05-20T04:09:34.546000\",\"2025-05-20T05:08:33.134000\",\"2025-05-20T06:03:37.411000\",\"2025-05-20T07:03:17.624000\",\"2025-05-20T08:03:40.043000\",\"2025-05-20T09:02:23.575000\",\"2025-05-20T10:03:28.964000\",\"2025-05-20T11:03:53.561000\",\"2025-05-20T12:04:05.961000\",\"2025-05-20T13:03:37.209000\",\"2025-05-20T14:03:44.154000\",\"2025-05-20T15:03:36.675000\",\"2025-05-20T16:06:32.254000\",\"2025-05-20T17:03:32.682000\",\"2025-05-20T18:02:08.129000\",\"2025-05-20T19:03:22.368000\",\"2025-05-20T20:08:19.829000\",\"2025-05-20T21:03:46.365000\",\"2025-05-20T22:03:47.739000\",\"2025-05-20T23:03:16.299000\",\"2025-05-21T00:03:42.592000\",\"2025-05-21T01:03:55.454000\",\"2025-05-21T02:03:29.040000\",\"2025-05-21T03:03:15.136000\",\"2025-05-21T04:03:16.764000\",\"2025-05-21T05:03:29.992000\",\"2025-05-21T06:03:23.869000\",\"2025-05-21T07:03:47.381000\",\"2025-05-21T08:03:30.784000\",\"2025-05-21T09:03:28.082000\",\"2025-05-21T10:02:46.515000\",\"2025-05-21T11:03:39.287000\",\"2025-05-21T12:03:46.422000\",\"2025-05-21T13:03:43.359000\",\"2025-05-21T14:03:25.757000\",\"2025-05-21T15:02:35.411000\",\"2025-05-21T16:00:57.775000\",\"2025-05-21T17:03:19.169000\",\"2025-05-21T18:03:27.194000\",\"2025-05-21T19:03:34.288000\",\"2025-05-21T20:01:04.093000\",\"2025-05-21T21:03:20.403000\",\"2025-05-21T22:02:42.136000\",\"2025-05-21T23:03:40.849000\",\"2025-05-22T00:03:24.921000\",\"2025-05-22T01:03:36.745000\",\"2025-05-22T02:03:36.046000\",\"2025-05-22T03:03:59.557000\",\"2025-05-22T04:03:28.974000\",\"2025-05-22T05:03:17.902000\",\"2025-05-22T06:00:02.694000\",\"2025-05-22T07:03:23.413000\",\"2025-05-22T08:03:11.472000\",\"2025-05-22T09:01:26.971000\",\"2025-05-22T10:03:48.188000\",\"2025-05-22T11:08:10.974000\",\"2025-05-22T12:03:38.342000\",\"2025-05-22T13:03:43.294000\",\"2025-05-22T14:03:52.701000\",\"2025-05-22T15:03:35.687000\",\"2025-05-22T16:03:46.380000\",\"2025-05-22T17:03:26.067000\",\"2025-05-22T18:03:13.270000\",\"2025-05-22T19:03:20.509000\",\"2025-05-22T20:03:42.969000\",\"2025-05-22T21:03:42.664000\",\"2025-05-22T22:03:50.823000\",\"2025-05-22T23:01:26.957000\",\"2025-05-23T00:03:15.870000\",\"2025-05-23T01:04:19.212000\",\"2025-05-23T02:03:55.938000\",\"2025-05-23T03:03:30.261000\",\"2025-05-23T04:03:27.917000\",\"2025-05-23T05:03:17.820000\",\"2025-05-23T06:03:32.400000\",\"2025-05-23T07:03:24.603000\",\"2025-05-23T08:03:30.329000\",\"2025-05-23T09:03:21.648000\",\"2025-05-23T10:03:35.943000\",\"2025-05-23T11:03:31.797000\",\"2025-05-23T12:03:25.477000\",\"2025-05-23T13:03:32.146000\",\"2025-05-23T14:03:39.122000\",\"2025-05-23T15:00:01.242000\",\"2025-05-23T16:04:01.380000\",\"2025-05-23T17:08:09.843000\",\"2025-05-23T18:04:01.327000\",\"2025-05-23T19:03:54.077000\",\"2025-05-23T20:03:32.374000\",\"2025-05-23T21:03:20.956000\",\"2025-05-23T22:03:21.800000\",\"2025-05-23T23:03:41.346000\",\"2025-05-24T00:02:38.255000\",\"2025-05-24T01:03:49.220000\",\"2025-05-24T02:03:35.796000\",\"2025-05-24T03:03:34.630000\",\"2025-05-24T04:08:36.716000\",\"2025-05-24T05:04:07.203000\",\"2025-05-24T06:04:13.680000\",\"2025-05-24T07:03:45.140000\",\"2025-05-24T08:03:47.004000\",\"2025-05-24T09:03:16.498000\",\"2025-05-24T10:03:52.753000\",\"2025-05-24T11:08:31.591000\",\"2025-05-24T12:03:32.933000\",\"2025-05-24T13:03:50.204000\",\"2025-05-24T14:03:44.307000\",\"2025-05-24T15:03:43.344000\",\"2025-05-24T16:02:39.661000\",\"2025-05-24T17:03:43.052000\",\"2025-05-24T18:01:37.512000\",\"2025-05-24T19:03:34.274000\",\"2025-05-24T20:08:14.101000\",\"2025-05-24T21:03:51.494000\",\"2025-05-24T22:04:03.918000\",\"2025-05-24T23:03:28.614000\",\"2025-05-25T00:04:06.192000\",\"2025-05-25T01:03:39.263000\",\"2025-05-25T02:03:52.676000\",\"2025-05-25T03:03:30.037000\",\"2025-05-25T04:03:47.956000\",\"2025-05-25T05:03:52.943000\",\"2025-05-25T06:03:38.005000\",\"2025-05-25T07:00:41.085000\",\"2025-05-25T08:03:58.315000\",\"2025-05-25T09:03:50.649000\",\"2025-05-25T10:03:37.774000\",\"2025-05-25T11:04:06.224000\",\"2025-05-25T12:03:37.710000\",\"2025-05-25T13:03:34.446000\",\"2025-05-25T14:08:16.317000\",\"2025-05-25T15:04:06.274000\",\"2025-05-25T16:06:47.476000\",\"2025-05-25T17:03:38.485000\",\"2025-05-25T18:03:58.059000\",\"2025-05-25T19:03:55.898000\",\"2025-05-25T20:08:26.003000\",\"2025-05-25T21:04:10.925000\",\"2025-05-25T22:08:16.025000\",\"2025-05-25T23:03:47.233000\",\"2025-05-26T00:04:06.694000\",\"2025-05-26T01:03:32.383000\",\"2025-05-26T02:01:47.657000\",\"2025-05-26T03:03:14.420000\",\"2025-05-26T04:03:38.116000\",\"2025-05-26T05:03:44.286000\",\"2025-05-26T06:06:33.043000\",\"2025-05-26T07:03:40.522000\",\"2025-05-26T08:04:17.742000\",\"2025-05-26T09:03:35.678000\",\"2025-05-26T10:03:45.795000\",\"2025-05-26T11:03:51.530000\",\"2025-05-26T12:03:37.003000\",\"2025-05-26T13:03:36.647000\",\"2025-05-26T14:04:11.243000\",\"2025-05-26T15:01:59.789000\",\"2025-05-26T16:03:48.086000\",\"2025-05-26T17:03:39.775000\",\"2025-05-26T18:03:49.693000\",\"2025-05-26T19:02:38.736000\",\"2025-05-26T20:07:14.702000\",\"2025-05-26T21:03:53.839000\",\"2025-05-26T22:03:39.726000\",\"2025-05-26T23:03:53.724000\",\"2025-05-27T00:02:20.891000\",\"2025-05-27T01:04:13.794000\",\"2025-05-27T02:01:30.695000\",\"2025-05-27T03:08:28.889000\",\"2025-05-27T04:03:37.471000\",\"2025-05-27T05:03:26.065000\",\"2025-05-27T06:03:22.593000\",\"2025-05-27T07:02:05.013000\",\"2025-05-27T08:03:27.808000\",\"2025-05-27T09:03:53.283000\",\"2025-05-27T10:09:53.518000\",\"2025-05-27T11:03:50.253000\",\"2025-05-27T12:02:50.216000\",\"2025-05-27T13:05:49.034000\",\"2025-05-27T14:03:50.506000\",\"2025-05-27T15:01:51.799000\",\"2025-05-27T16:04:05.218000\",\"2025-05-27T17:03:29.935000\",\"2025-05-27T18:08:04.268000\",\"2025-05-27T19:03:46.422000\",\"2025-05-27T20:03:46.234000\",\"2025-05-27T21:03:43.413000\",\"2025-05-27T22:03:33.736000\",\"2025-05-27T23:03:52\",\"2025-05-28T00:03:41.087000\",\"2025-05-28T01:03:58.790000\",\"2025-05-28T02:03:36.433000\",\"2025-05-28T03:01:28.058000\",\"2025-05-28T04:03:42.405000\",\"2025-05-28T05:19:15.582000\",\"2025-05-28T07:12:46.361000\",\"2025-05-28T07:17:05.091000\",\"2025-05-28T08:26:19.714000\",\"2025-05-28T10:46:15.101000\",\"2025-05-28T11:25:43.765000\",\"2025-05-28T11:49:21.181000\",\"2025-05-28T12:03:14.682000\",\"2025-05-28T13:03:24.835000\",\"2025-05-28T14:11:28.776000\",\"2025-05-28T15:03:14.505000\",\"2025-05-28T16:03:42.908000\",\"2025-05-28T17:03:25.866000\",\"2025-05-28T18:03:51.275000\",\"2025-05-28T19:03:50.802000\",\"2025-05-28T20:02:12.162000\",\"2025-05-28T21:03:28.177000\",\"2025-05-28T22:03:44.412000\",\"2025-05-28T23:03:20.192000\",\"2025-05-29T00:03:45.349000\",\"2025-05-29T01:03:12.883000\",\"2025-05-29T02:04:02.802000\",\"2025-05-29T03:03:02.729000\",\"2025-05-29T04:03:28.273000\",\"2025-05-29T05:03:48.956000\",\"2025-05-29T06:02:46.218000\",\"2025-05-29T07:03:26.701000\",\"2025-05-29T08:08:13.183000\",\"2025-05-29T09:03:26.094000\",\"2025-05-29T10:03:33.344000\",\"2025-05-29T11:03:42.389000\",\"2025-05-29T12:01:39.999000\",\"2025-05-29T13:03:34.917000\",\"2025-05-29T14:03:22.504000\",\"2025-05-29T15:02:40.585000\",\"2025-05-29T16:03:34.874000\",\"2025-05-29T17:02:01.600000\",\"2025-05-29T18:03:28.868000\",\"2025-05-29T19:03:44.594000\",\"2025-05-29T20:03:25.043000\",\"2025-05-29T21:03:57.695000\",\"2025-05-29T22:03:44.828000\",\"2025-05-29T23:03:41.295000\",\"2025-05-30T00:03:48.581000\",\"2025-05-30T01:03:32.218000\",\"2025-05-30T02:03:38.088000\",\"2025-05-30T03:03:33.739000\",\"2025-05-30T04:00:48.499000\",\"2025-05-30T05:03:30.717000\",\"2025-05-30T06:03:40.689000\",\"2025-05-30T07:03:21.808000\",\"2025-05-30T08:03:25.213000\",\"2025-05-30T09:03:42.557000\",\"2025-05-30T10:03:36.874000\",\"2025-05-30T11:03:44.486000\",\"2025-05-30T12:03:53.844000\",\"2025-05-30T13:03:37.873000\",\"2025-05-30T14:03:39.409000\",\"2025-05-30T15:03:33.227000\",\"2025-05-30T16:02:48.905000\",\"2025-05-30T17:03:38.600000\",\"2025-05-30T18:08:19.324000\",\"2025-05-30T19:03:36.278000\",\"2025-05-30T20:03:39.708000\",\"2025-05-30T21:03:28.880000\",\"2025-05-30T22:03:17.771000\",\"2025-05-30T23:04:18.875000\",\"2025-05-31T00:03:28.419000\",\"2025-05-31T01:03:42.208000\",\"2025-05-31T02:03:13.459000\",\"2025-05-31T03:03:27.596000\",\"2025-05-31T04:03:58.097000\",\"2025-05-31T05:03:48.793000\",\"2025-05-31T06:03:39.523000\",\"2025-05-31T07:04:05.802000\",\"2025-05-31T08:03:33.004000\",\"2025-05-31T09:01:52.380000\",\"2025-05-31T10:03:54.178000\",\"2025-05-31T11:08:19.505000\",\"2025-05-31T12:04:08.742000\",\"2025-05-31T13:04:00.047000\",\"2025-05-31T14:05:51.916000\",\"2025-05-31T15:08:29.117000\",\"2025-05-31T16:01:36.805000\",\"2025-05-31T17:04:00.319000\",\"2025-05-31T18:03:43.023000\",\"2025-05-31T19:03:54.614000\",\"2025-05-31T20:00:31.345000\",\"2025-05-31T21:03:44.330000\",\"2025-05-31T22:03:05.339000\",\"2025-05-31T23:03:50.704000\",\"2025-06-01T00:04:03.305000\",\"2025-06-01T01:03:30.316000\",\"2025-06-01T02:04:02.433000\",\"2025-06-01T03:01:14.287000\",\"2025-06-01T04:03:47.693000\",\"2025-06-01T05:06:00.746000\",\"2025-06-01T06:03:35.961000\",\"2025-06-01T07:03:30.830000\",\"2025-06-01T08:03:01.840000\",\"2025-06-01T09:02:21.829000\",\"2025-06-01T10:03:45.532000\",\"2025-06-01T11:03:40.017000\",\"2025-06-01T12:02:25.329000\",\"2025-06-01T13:02:19.164000\",\"2025-06-01T14:08:24.153000\",\"2025-06-01T15:00:39.169000\",\"2025-06-01T16:03:51.655000\",\"2025-06-01T17:03:22.234000\",\"2025-06-01T18:03:40.936000\",\"2025-06-01T19:03:57.650000\",\"2025-06-01T20:03:51.980000\",\"2025-06-01T21:03:38.666000\",\"2025-06-01T22:03:30.550000\",\"2025-06-01T23:03:57.952000\",\"2025-06-02T00:03:45.279000\",\"2025-06-02T01:03:45.938000\",\"2025-06-02T02:03:50.612000\",\"2025-06-02T03:03:31.728000\",\"2025-06-02T04:03:53.873000\",\"2025-06-02T05:02:27.281000\",\"2025-06-02T06:01:27.122000\",\"2025-06-02T07:03:37.285000\",\"2025-06-02T08:03:34.402000\",\"2025-06-02T09:03:38.670000\",\"2025-06-02T10:03:45.008000\",\"2025-06-02T11:03:56.075000\",\"2025-06-02T12:03:41.533000\",\"2025-06-02T13:03:49.451000\",\"2025-06-02T14:02:50.279000\",\"2025-06-02T15:04:12.191000\",\"2025-06-02T16:03:35.117000\",\"2025-06-02T17:03:44.754000\",\"2025-06-02T18:03:46.230000\",\"2025-06-02T19:03:28.188000\",\"2025-06-02T20:04:08.577000\",\"2025-06-02T21:00:59.354000\",\"2025-06-02T22:02:45.990000\",\"2025-06-02T23:03:58.177000\",\"2025-06-03T00:03:46.184000\",\"2025-06-03T01:03:23.717000\",\"2025-06-03T02:03:10.802000\",\"2025-06-03T03:02:40.816000\",\"2025-06-03T04:03:28.458000\",\"2025-06-03T05:03:32.485000\",\"2025-06-03T06:03:23.646000\",\"2025-06-03T07:04:01.278000\",\"2025-06-03T08:02:24.553000\",\"2025-06-03T09:03:22.356000\",\"2025-06-03T10:03:22.504000\",\"2025-06-03T11:00:45.320000\",\"2025-06-03T12:03:52.618000\",\"2025-06-03T13:03:24.006000\",\"2025-06-03T14:03:32.297000\",\"2025-06-03T15:03:56.782000\",\"2025-06-03T16:03:49.723000\",\"2025-06-03T17:04:48.414000\",\"2025-06-03T18:03:33.083000\",\"2025-06-03T19:08:25.921000\",\"2025-06-03T20:03:30.957000\",\"2025-06-03T21:04:00.180000\",\"2025-06-03T22:03:53.659000\",\"2025-06-03T23:01:43.583000\",\"2025-06-04T00:04:10.820000\",\"2025-06-04T01:03:40.843000\",\"2025-06-04T02:01:08.535000\",\"2025-06-04T03:04:21.251000\",\"2025-06-04T04:02:49.956000\",\"2025-06-04T05:03:23.940000\",\"2025-06-04T06:03:26.314000\",\"2025-06-04T07:03:48.003000\",\"2025-06-04T08:01:33.799000\",\"2025-06-04T09:03:49.310000\",\"2025-06-04T10:03:13.851000\",\"2025-06-04T11:03:22.376000\",\"2025-06-04T12:03:23.673000\",\"2025-06-04T13:03:38.185000\",\"2025-06-04T14:03:45.148000\",\"2025-06-04T15:03:34.033000\",\"2025-06-04T16:04:05.398000\",\"2025-06-04T17:03:44.745000\",\"2025-06-04T18:01:03.580000\",\"2025-06-04T19:03:44.837000\",\"2025-06-04T20:03:22.803000\",\"2025-06-04T21:03:50.437000\",\"2025-06-04T22:01:22.828000\",\"2025-06-04T23:03:28.975000\",\"2025-06-05T00:04:06.101000\",\"2025-06-05T01:03:54.713000\",\"2025-06-05T02:03:50.076000\",\"2025-06-05T03:03:51.552000\",\"2025-06-05T04:14:28.998000\",\"2025-06-05T05:03:08.494000\",\"2025-06-05T06:03:36.090000\",\"2025-06-05T07:03:59.675000\",\"2025-06-05T08:02:21.449000\",\"2025-06-05T09:03:56.489000\",\"2025-06-05T10:03:25.215000\",\"2025-06-05T11:01:41.727000\",\"2025-06-05T12:03:38.788000\",\"2025-06-05T13:00:24.081000\",\"2025-06-05T14:03:46.702000\",\"2025-06-05T15:03:48.201000\",\"2025-06-05T16:03:50.401000\",\"2025-06-05T17:03:33.764000\",\"2025-06-05T18:03:54.048000\",\"2025-06-05T19:03:40.726000\",\"2025-06-05T20:03:55.014000\",\"2025-06-05T21:03:44.592000\",\"2025-06-05T22:03:38.457000\",\"2025-06-05T23:03:53.869000\",\"2025-06-06T00:03:37.010000\",\"2025-06-06T01:03:25.340000\",\"2025-06-06T02:03:34.848000\",\"2025-06-06T03:03:28.607000\",\"2025-06-06T04:03:51.751000\",\"2025-06-06T05:03:25.457000\",\"2025-06-06T06:03:39.480000\",\"2025-06-06T07:03:36.032000\",\"2025-06-06T08:03:31.306000\",\"2025-06-06T09:03:38.226000\",\"2025-06-06T10:03:22.422000\",\"2025-06-06T11:03:44.571000\",\"2025-06-06T12:03:48.450000\",\"2025-06-06T13:03:48.094000\",\"2025-06-06T14:03:45.780000\",\"2025-06-06T15:03:44.749000\",\"2025-06-06T16:04:03.296000\",\"2025-06-06T17:04:04.108000\",\"2025-06-06T18:03:47.740000\",\"2025-06-06T19:03:45.234000\",\"2025-06-06T20:03:44.887000\",\"2025-06-06T21:03:39.095000\",\"2025-06-06T22:03:49.155000\",\"2025-06-06T23:03:43.320000\",\"2025-06-07T00:03:41.869000\",\"2025-06-07T01:03:46.886000\",\"2025-06-07T02:03:36.195000\",\"2025-06-07T03:03:42.528000\",\"2025-06-07T04:04:17.815000\",\"2025-06-07T05:03:46.877000\",\"2025-06-07T06:03:52.186000\",\"2025-06-07T07:03:33.180000\",\"2025-06-07T08:00:52.900000\",\"2025-06-07T09:03:03.930000\",\"2025-06-07T10:03:35.745000\",\"2025-06-07T11:00:49.469000\",\"2025-06-07T12:03:42.186000\",\"2025-06-07T13:03:45.788000\",\"2025-06-07T14:03:55.058000\",\"2025-06-07T15:03:40.503000\",\"2025-06-07T16:01:29.745000\",\"2025-06-07T17:04:00.461000\",\"2025-06-07T18:02:29.197000\",\"2025-06-07T19:03:40.612000\",\"2025-06-07T20:03:40.283000\",\"2025-06-07T21:03:50.127000\",\"2025-06-07T22:03:39.364000\",\"2025-06-07T23:03:38.173000\",\"2025-06-08T00:03:39.517000\",\"2025-06-08T01:03:43.016000\",\"2025-06-08T02:03:43.867000\",\"2025-06-08T03:03:40.400000\",\"2025-06-08T04:03:50.486000\",\"2025-06-08T05:03:43.236000\",\"2025-06-08T06:03:56.221000\",\"2025-06-08T07:03:37.011000\",\"2025-06-08T08:03:34.969000\",\"2025-06-08T09:03:51.057000\",\"2025-06-08T10:03:45.852000\",\"2025-06-08T11:03:47.808000\",\"2025-06-08T12:03:50.342000\",\"2025-06-08T13:03:43.862000\",\"2025-06-08T14:03:48.081000\",\"2025-06-08T15:02:16.530000\",\"2025-06-08T16:03:35.023000\",\"2025-06-08T17:04:07.208000\",\"2025-06-08T18:03:47.856000\",\"2025-06-08T19:03:39.788000\",\"2025-06-08T20:03:57.567000\",\"2025-06-08T21:03:47.083000\",\"2025-06-08T22:03:57.300000\",\"2025-06-08T23:03:42.710000\",\"2025-06-09T00:03:49.890000\",\"2025-06-09T01:01:10.920000\",\"2025-06-09T02:03:21.741000\",\"2025-06-09T03:03:30.513000\",\"2025-06-09T04:03:22.368000\",\"2025-06-09T05:03:36.075000\",\"2025-06-09T06:04:14.855000\",\"2025-06-09T07:03:31.332000\",\"2025-06-09T08:03:06.496000\",\"2025-06-09T09:03:38.004000\",\"2025-06-09T10:03:40.244000\",\"2025-06-09T11:03:04.508000\",\"2025-06-09T12:03:22.845000\",\"2025-06-09T13:02:51.282000\",\"2025-06-09T14:02:38.521000\",\"2025-06-09T15:02:15.041000\",\"2025-06-09T16:02:53.833000\",\"2025-06-09T17:03:17.801000\",\"2025-06-09T18:02:55.616000\",\"2025-06-09T19:03:23.179000\",\"2025-06-09T20:00:45.630000\",\"2025-06-09T21:03:04.775000\",\"2025-06-09T22:03:14.616000\",\"2025-06-09T23:03:00.441000\",\"2025-06-10T00:03:34.511000\",\"2025-06-10T01:03:11.571000\",\"2025-06-10T02:03:17.631000\",\"2025-06-10T03:03:13.551000\",\"2025-06-10T03:37:37\"],\"y\":[104056.37170558948,104155.90999828055,103870.8841579018,103829.80918775442,103593.91838549759,103851.88885800124,104334.48684183184,104548.72450789883,104596.7005862239,104642.10789268535,104172.25933546464,104190.60953809322,104154.20587019669,103961.02518029482,104038.3347814099,104565.14537131102,104461.60521897068,104294.14065447195,104332.65737615807,103785.595389775,104083.02280094857,104632.60236125204,104010.92730451525,103878.99122372338,104025.9851010989,104015.37994237608,103922.92947191757,104385.93976669859,104345.64506752802,104580.96675487966,104442.91913640256,104427.94756195355,103839.45870520416,103996.90080969327,104265.08276082827,102956.96335456427,102540.50604756521,102896.58742159072,102638.94133473857,101758.10895980781,101821.24819695739,102722.17829371417,102535.07438971548,102853.64407073468,102822.91679502407,102341.3693907083,102438.5006522079,102023.67064825837,101749.06016032975,102691.31422765224,102374.73819318778,102502.1318967532,102663.9087874314,102737.32382836587,103476.25686228045,103528.56498547425,103711.10493023827,103723.99690271963,103707.01836525789,103122.1652700943,103635.82838474064,103860.8913290485,104193.24996458978,104303.9664067448,104778.26218485396,104595.44088503523,104328.02983968919,104235.96595683586,104184.49039270742,103917.7359966492,103858.60396107004,103700.05269875677,103556.45885636128,103700.90096775675,103878.53354621866,103717.46530373387,103663.5497768388,103468.82472880279,103293.13171967196,103746.51631775557,103975.28155532911,104129.23681507706,103949.55688600815,103240.50497954589,103411.5875926134,103410.52259318183,103236.43383121496,103360.77315539285,103462.91792934247,103541.32991390128,103616.5641306095,103500.55803017515,103546.46918182234,103798.18025222377,103147.88093550252,103089.72958890599,102815.83535741437,102905.98275243046,102431.01681734665,102306.61847027586,101842.9630220415,102228.46374839121,101775.76120644069,101829.9751948105,102312.39420890273,102608.73433980295,102271.11362732355,101853.27241327312,103086.80093931165,103777.5914622185,103977.5367463436,103060.49374205088,103087.36701019295,103429.09594246546,103169.59627070383,103553.93506366151,103782.3671140446,103812.14447323454,104095.83301023155,104209.18515019871,104106.84509644518,103921.6763892081,103957.37600357285,103992.82840419417,103754.42490400397,103448.92558696079,103745.43202947287,103870.40503140159,103672.28959796879,103626.44459045639,103878.14561854265,103647.16205373578,104160.56764282625,104068.97915372228,103976.81475435526,103804.54780310261,103799.70381025353,103617.4746044224,103673.4945246536,103467.28985993791,103533.26669721663,103374.05076215406,102834.21312072649,103261.20227671404,103427.18317517905,103624.29922408522,103447.46486301252,103477.33282267097,103461.57411690436,103486.17664215172,102953.19338310153,102888.81365330738,103006.73892894214,102970.03327807052,102770.92765223501,103084.1477956473,103048.13639309886,102939.38321692156,103228.47165623815,103150.84851261016,103190.37357819127,103328.79249857902,103243.00007011925,103058.42662008991,103194.65650649132,103327.24481798257,103267.63750333845,103352.28257714226,103299.05914787803,103355.71135042422,103572.153611391,103454.258403256,103939.79715898632,103957.51238379734,103932.06434509694,103858.01525131274,103879.27506436742,103917.6748144419,104358.7947429362,105248.97875365856,105489.05721365198,105617.89582136768,105225.03435811208,104765.1482168906,103978.61566865668,104252.70272876776,104348.16945412189,105427.48904875397,106139.68550864227,105437.01050324997,105096.5284516676,104838.70371804148,103772.36372351332,103094.56691113103,102967.7704388321,102381.2104823244,103123.7868453361,103196.68223062064,103065.3005647513,103017.96554457302,102997.32804027783,102430.42377901066,103154.46317414453,104220.6102128076,104836.37399450976,105198.84427783277,105400.64224825481,104880.26082573306,105483.24685112822,105474.85779660604,105370.28430321654,105563.46876771093,105663.20354903601,105954.58937111168,106518.35886707173,106213.00243528716,105704.92960225897,106000.05837647662,106180.53385959675,105571.21456623028,105098.96222700436,105132.78539854169,105335.88358591389,105108.95454542089,105290.92949721494,104783.15991167142,104387.66509118448,104699.4194788197,105320.90282923858,105321.47853626123,106214.94694946974,105617.25144004321,106766.70827506462,106873.03984532565,106605.25880615096,106566.5101429697,106798.53751514817,106729.94892643986,106745.58902176483,106847.32408765871,106997.00700435344,107310.06807981472,107571.99245510355,107830.8151594922,106677.38787992802,106453.36873589936,106229.4484508103,106345.85396894008,106572.18074553607,106597.24663397692,107167.01155046471,108191.04574576017,108946.19945911734,109467.65393142396,106858.56946008814,107063.63745109698,108154.12382431893,108159.48051791964,108373.7653509943,108802.10768508335,109665.86371625263,109767.4267734194,109884.97769208835,110548.6458188241,111456.20060662669,111511.6774557056,111390.47024942681,110735.19870670425,110993.06231250282,110636.79648257865,110686.81739374637,110803.11411171874,110896.84501716551,111451.2862183869,111191.4487025737,110835.12962917982,111309.92910328938,111286.84890475648,111611.56343829512,111806.59824511288,111245.07284170916,111076.51799294353,110917.06299917561,111096.21954213973,111579.18064152761,111604.40010039737,111345.65909033423,111301.85532708239,111146.66977450451,110757.91950414388,110797.56436221828,110503.55628472357,110707.81903717006,110917.13857294313,111253.45522870688,111046.57686168964,109897.47827053633,108482.10601164782,109275.65044825088,109839.6038386153,109423.79552995846,109031.57767812967,109512.70343609044,108897.93222484985,108849.99937697839,108378.61029552908,108370.71855030885,107925.98663757442,107216.66856870624,107448.81236982298,107560.90623540942,107785.85862363827,108313.99818936095,108519.64419891509,108220.18125322252,107933.6541256463,107863.55438184297,108129.30186241341,108246.10379946267,109064.49875511439,109293.09324020769,108864.12667482972,108706.06301655057,108925.84641221556,108927.98929382108,108958.7961120567,109004.6382762397,108891.00849725526,108931.99882488411,108997.68134477749,108794.66338557926,108324.50385270145,107819.03500967441,107560.35547040866,107805.05054769137,107891.31778165785,108184.7574415441,108231.15647527888,108102.18328418584,107951.01042113107,107663.82255307953,107202.86952067465,107008.50025844328,107111.61532216199,107229.97600422137,107508.5781464207,107595.44832870299,107399.45153782984,107026.63689919372,107194.49682019958,107361.52607040221,107471.24209039177,107709.73380969735,107678.78258621048,107551.76007320086,108943.10357431156,108900.60971032295,109332.30422322398,109644.0944843374,109381.21101171852,109640.14949568055,109640.30065478676,109693.05457264249,109763.75542821016,110069.996555907,109764.40402717775,109800.80370209024,109783.71368255347,109774.30144629999,109869.6891355584,109689.0102145158,109655.67460232694,110094.41474441695,109470.221517873,109188.5957649634,109254.39362970593,109047.57999108941,109519.24046634995,109310.25554235582,109324.18231895837,109393.7426319189,109244.47199363296,108404.65342061548,108291.51316543337,108942.88237705643,109098.68870043928,108882.08477088844,109070.30749202636,109494.22607246385,109657.20614424704,109779.06864983166,109723.76011973014,109553.04118184176,109610.43332368211,110129.16760407812,109507.13569401362,110099.57660811061,110370.16947230526,110318.49048090649,109960.78522608873,109888.52719903603,109727.0086155748,109037.67578729725,109024.62093375555,109068.45694901445,109079.40649336847,108886.3845735417,108768.19988265696,108884.0259038373,108940.1773451005,108862.36961142333,108889.6119472418,108882.04806565147,108709.61989815888,108863.60728588802,108818.14547964901,108890.91440583029,108944.85567190323,108356.0781198605,107787.16425066987,107269.42741890978,107339.2017546359,107616.72362853687,107578.37480926694,107224.6662536516,107340.43334503609,107515.8446882785,107434.48106938627,107830.09824019176,108002.59474462224,108122.51204066363,108327.44866251863,108079.34239243121,107626.97085100684,107725.52095743766,107920.1974740728,107896.13790220738,108371.81760058597,108510.60196271908,108683.27384976887,108776.46456114404,108525.58073461946,107752.8881593513,107373.77974694304,107225.26920407623,106855.76343413476,106555.77248878802,106275.12368653456,105795.87862075334,106186.30867560254,106360.94384324948,106079.31761099242,105719.8746352865,105639.53319721273,105750.14624215776,106040.60973211058,106101.69115213107,106026.60438054912,106137.02262895752,105808.8672719583,105110.09822982202,105286.37696877142,105381.73087042263,105823.20136516768,105906.52544514877,105817.08267405754,105663.6792038163,105421.38337129625,105688.71449582417,104264.90326276203,104172.41321473155,104813.10767981928,104664.98202081486,104616.44049942096,104655.20740068801,104205.17451736565,104020.87024454171,104076.72784381875,103696.1247977576,103435.294490232,103601.87178195361,103824.11612464479,103686.32701325708,103877.79052631023,103762.66178833206,103704.96118351052,103554.46847047377,103414.43956180367,103509.41396345252,103973.84689507472,104146.3760946421,104539.6023594963,104631.79600657774,104560.9169117684,104447.71755306104,104542.70204106421,104760.87665349877,104787.19762084991,104889.22082341903,104724.25519371904,104686.33390404454,104490.76299797236,104220.12549209832,104282.76293803848,104415.09173339471,104700.70796776762,104579.14940421331,104335.4232755588,104314.47422045031,104372.08139539413,103960.8398216753,103943.43968854116,104134.12287748596,103985.4740970415,104350.8244167612,104658.63597588184,104757.12343155454,105188.2851855408,105130.28871559852,104762.23687711962,105138.649468891,105101.21815001429,105465.56162730166,105570.88548761408,105698.43787667034,105520.60325417768,105434.07450372176,105180.30754748466,104916.29443954947,104872.8251572928,104801.07942870536,105204.44610105276,105368.68890560322,105435.16251218649,104625.38503451426,104408.43975478904,104111.85699254976,104186.08725372954,103984.23164102003,104177.95389892647,104451.97934951428,104217.13591362599,104365.45418296989,104423.20005405525,104387.15494992636,104831.51922590255,104813.5722536531,105689.76014869151,105883.83175718882,106303.2642325292,106415.39805223339,105912.22235567383,105559.5709498075,105281.7096124612,105408.1550399723,105376.81746448038,105235.80522810307,105056.7992005663,105264.2351143675,105320.2424303424,105311.32831121249,105355.58820250632,105535.61997192288,106136.14262079,106723.28639087187,106181.7181167179,105959.60861064511,106061.04647803256,106277.44088744238,105835.64102101928,105547.55081894307,105861.43112119468,105430.86066799659,105410.06700957082,105613.321033883,105577.08330468582,105640.83579860737,105481.7041495444,105447.5957079321,105392.25055909126,105407.10634156673,105513.53836423514,105760.43175456114,105743.91929315783,105281.38636030082,105024.79619693328,104956.67962695676,104892.18949513155,105446.22839142571,105465.20103829549,105130.27736663017,105081.49665184232,105046.66272948279,104713.93690550917,104988.53940657886,104893.31963210164,104803.00653561577,104969.96988276378,104845.46369945056,105155.14023932912,105041.31459778977,105205.79476428934,104712.53512436998,104523.62839526946,104539.26508580917,104655.89818941445,104891.01615811103,104674.14217198468,104850.2493595431,105677.91848447545,104889.52753735597,104536.3237933925,104683.41826234531,103670.3463119395,103369.38946279231,103019.09520471051,102237.4351484742,100983.60135527559,101404.92497261042,101578.2036315807,101597.8403831928,101803.78708476748,101888.07537069664,101939.83225404494,102506.29434569468,102768.22736413717,102910.60619731266,103190.05782068217,103193.03599234115,103565.41714829578,103676.230888142,103695.69127704465,104004.36320058013,103912.68290846425,104271.9983989326,104761.48797964276,105066.03741127625,104983.6936615671,104796.37355480397,104600.5831454065,104262.10724250386,104540.18371612598,104468.274174957,104461.5344281458,104409.74967959142,104454.20877186986,104516.94514771094,104559.5329323005,104913.22935555375,104848.80691810556,104941.69820410537,105183.67690862494,104932.64783178168,104837.49534565218,104859.27707262765,105124.89532446669,105184.32808058451,105502.1799729382,105692.9246815126,105482.63374208666,105585.27235064043,105427.00046183626,105483.81159514144,105642.70799832219,105740.04411994808,105879.205828614,105827.43190370961,105877.88107706241,105665.12362716689,105524.79036817417,105716.47312201474,105549.37156829852,105513.4515498109,105628.00479256481,105487.25415054621,105517.46458261348,105471.46917806876,105463.71806186541,105223.76329644934,105383.64977012655,105678.52424613554,105677.06043060997,105771.0190427633,105823.01546018168,106002.76463300346,106233.23779122584,106254.27409684511,106334.88779042312,106308.2629652628,106218.26536679151,106348.57213757417,105859.29070841393,105724.23517396167,105759.6110454988,105605.30281817443,105622.44013307923,105622.24990474587,105555.58094361995,105443.99008599298,105677.0728423735,105603.4581189129,105833.35990804224,106715.89628452867,107193.15018373576,107701.99540917421,107799.2144010282,107115.21071634178,107619.70037505605,107772.82815617166,107865.90338063899,108363.66508078856,108452.74865376222,108539.58035509764,108741.30459011254,109966.95873692061,110191.90634892028,110265.69002155038,109988.51756663903,109756.33536035352,109688.30727503309,109468.51524606264],\"type\":\"scatter\"}],                        {\"template\":{\"data\":{\"barpolar\":[{\"marker\":{\"line\":{\"color\":\"white\",\"width\":0.5},\"pattern\":{\"fillmode\":\"overlay\",\"size\":10,\"solidity\":0.2}},\"type\":\"barpolar\"}],\"bar\":[{\"error_x\":{\"color\":\"#2a3f5f\"},\"error_y\":{\"color\":\"#2a3f5f\"},\"marker\":{\"line\":{\"color\":\"white\",\"width\":0.5},\"pattern\":{\"fillmode\":\"overlay\",\"size\":10,\"solidity\":0.2}},\"type\":\"bar\"}],\"carpet\":[{\"aaxis\":{\"endlinecolor\":\"#2a3f5f\",\"gridcolor\":\"#C8D4E3\",\"linecolor\":\"#C8D4E3\",\"minorgridcolor\":\"#C8D4E3\",\"startlinecolor\":\"#2a3f5f\"},\"baxis\":{\"endlinecolor\":\"#2a3f5f\",\"gridcolor\":\"#C8D4E3\",\"linecolor\":\"#C8D4E3\",\"minorgridcolor\":\"#C8D4E3\",\"startlinecolor\":\"#2a3f5f\"},\"type\":\"carpet\"}],\"choropleth\":[{\"colorbar\":{\"outlinewidth\":0,\"ticks\":\"\"},\"type\":\"choropleth\"}],\"contourcarpet\":[{\"colorbar\":{\"outlinewidth\":0,\"ticks\":\"\"},\"type\":\"contourcarpet\"}],\"contour\":[{\"colorbar\":{\"outlinewidth\":0,\"ticks\":\"\"},\"colorscale\":[[0.0,\"#0d0887\"],[0.1111111111111111,\"#46039f\"],[0.2222222222222222,\"#7201a8\"],[0.3333333333333333,\"#9c179e\"],[0.4444444444444444,\"#bd3786\"],[0.5555555555555556,\"#d8576b\"],[0.6666666666666666,\"#ed7953\"],[0.7777777777777778,\"#fb9f3a\"],[0.8888888888888888,\"#fdca26\"],[1.0,\"#f0f921\"]],\"type\":\"contour\"}],\"heatmapgl\":[{\"colorbar\":{\"outlinewidth\":0,\"ticks\":\"\"},\"colorscale\":[[0.0,\"#0d0887\"],[0.1111111111111111,\"#46039f\"],[0.2222222222222222,\"#7201a8\"],[0.3333333333333333,\"#9c179e\"],[0.4444444444444444,\"#bd3786\"],[0.5555555555555556,\"#d8576b\"],[0.6666666666666666,\"#ed7953\"],[0.7777777777777778,\"#fb9f3a\"],[0.8888888888888888,\"#fdca26\"],[1.0,\"#f0f921\"]],\"type\":\"heatmapgl\"}],\"heatmap\":[{\"colorbar\":{\"outlinewidth\":0,\"ticks\":\"\"},\"colorscale\":[[0.0,\"#0d0887\"],[0.1111111111111111,\"#46039f\"],[0.2222222222222222,\"#7201a8\"],[0.3333333333333333,\"#9c179e\"],[0.4444444444444444,\"#bd3786\"],[0.5555555555555556,\"#d8576b\"],[0.6666666666666666,\"#ed7953\"],[0.7777777777777778,\"#fb9f3a\"],[0.8888888888888888,\"#fdca26\"],[1.0,\"#f0f921\"]],\"type\":\"heatmap\"}],\"histogram2dcontour\":[{\"colorbar\":{\"outlinewidth\":0,\"ticks\":\"\"},\"colorscale\":[[0.0,\"#0d0887\"],[0.1111111111111111,\"#46039f\"],[0.2222222222222222,\"#7201a8\"],[0.3333333333333333,\"#9c179e\"],[0.4444444444444444,\"#bd3786\"],[0.5555555555555556,\"#d8576b\"],[0.6666666666666666,\"#ed7953\"],[0.7777777777777778,\"#fb9f3a\"],[0.8888888888888888,\"#fdca26\"],[1.0,\"#f0f921\"]],\"type\":\"histogram2dcontour\"}],\"histogram2d\":[{\"colorbar\":{\"outlinewidth\":0,\"ticks\":\"\"},\"colorscale\":[[0.0,\"#0d0887\"],[0.1111111111111111,\"#46039f\"],[0.2222222222222222,\"#7201a8\"],[0.3333333333333333,\"#9c179e\"],[0.4444444444444444,\"#bd3786\"],[0.5555555555555556,\"#d8576b\"],[0.6666666666666666,\"#ed7953\"],[0.7777777777777778,\"#fb9f3a\"],[0.8888888888888888,\"#fdca26\"],[1.0,\"#f0f921\"]],\"type\":\"histogram2d\"}],\"histogram\":[{\"marker\":{\"pattern\":{\"fillmode\":\"overlay\",\"size\":10,\"solidity\":0.2}},\"type\":\"histogram\"}],\"mesh3d\":[{\"colorbar\":{\"outlinewidth\":0,\"ticks\":\"\"},\"type\":\"mesh3d\"}],\"parcoords\":[{\"line\":{\"colorbar\":{\"outlinewidth\":0,\"ticks\":\"\"}},\"type\":\"parcoords\"}],\"pie\":[{\"automargin\":true,\"type\":\"pie\"}],\"scatter3d\":[{\"line\":{\"colorbar\":{\"outlinewidth\":0,\"ticks\":\"\"}},\"marker\":{\"colorbar\":{\"outlinewidth\":0,\"ticks\":\"\"}},\"type\":\"scatter3d\"}],\"scattercarpet\":[{\"marker\":{\"colorbar\":{\"outlinewidth\":0,\"ticks\":\"\"}},\"type\":\"scattercarpet\"}],\"scattergeo\":[{\"marker\":{\"colorbar\":{\"outlinewidth\":0,\"ticks\":\"\"}},\"type\":\"scattergeo\"}],\"scattergl\":[{\"marker\":{\"colorbar\":{\"outlinewidth\":0,\"ticks\":\"\"}},\"type\":\"scattergl\"}],\"scattermapbox\":[{\"marker\":{\"colorbar\":{\"outlinewidth\":0,\"ticks\":\"\"}},\"type\":\"scattermapbox\"}],\"scatterpolargl\":[{\"marker\":{\"colorbar\":{\"outlinewidth\":0,\"ticks\":\"\"}},\"type\":\"scatterpolargl\"}],\"scatterpolar\":[{\"marker\":{\"colorbar\":{\"outlinewidth\":0,\"ticks\":\"\"}},\"type\":\"scatterpolar\"}],\"scatter\":[{\"fillpattern\":{\"fillmode\":\"overlay\",\"size\":10,\"solidity\":0.2},\"type\":\"scatter\"}],\"scatterternary\":[{\"marker\":{\"colorbar\":{\"outlinewidth\":0,\"ticks\":\"\"}},\"type\":\"scatterternary\"}],\"surface\":[{\"colorbar\":{\"outlinewidth\":0,\"ticks\":\"\"},\"colorscale\":[[0.0,\"#0d0887\"],[0.1111111111111111,\"#46039f\"],[0.2222222222222222,\"#7201a8\"],[0.3333333333333333,\"#9c179e\"],[0.4444444444444444,\"#bd3786\"],[0.5555555555555556,\"#d8576b\"],[0.6666666666666666,\"#ed7953\"],[0.7777777777777778,\"#fb9f3a\"],[0.8888888888888888,\"#fdca26\"],[1.0,\"#f0f921\"]],\"type\":\"surface\"}],\"table\":[{\"cells\":{\"fill\":{\"color\":\"#EBF0F8\"},\"line\":{\"color\":\"white\"}},\"header\":{\"fill\":{\"color\":\"#C8D4E3\"},\"line\":{\"color\":\"white\"}},\"type\":\"table\"}]},\"layout\":{\"annotationdefaults\":{\"arrowcolor\":\"#2a3f5f\",\"arrowhead\":0,\"arrowwidth\":1},\"autotypenumbers\":\"strict\",\"coloraxis\":{\"colorbar\":{\"outlinewidth\":0,\"ticks\":\"\"}},\"colorscale\":{\"diverging\":[[0,\"#8e0152\"],[0.1,\"#c51b7d\"],[0.2,\"#de77ae\"],[0.3,\"#f1b6da\"],[0.4,\"#fde0ef\"],[0.5,\"#f7f7f7\"],[0.6,\"#e6f5d0\"],[0.7,\"#b8e186\"],[0.8,\"#7fbc41\"],[0.9,\"#4d9221\"],[1,\"#276419\"]],\"sequential\":[[0.0,\"#0d0887\"],[0.1111111111111111,\"#46039f\"],[0.2222222222222222,\"#7201a8\"],[0.3333333333333333,\"#9c179e\"],[0.4444444444444444,\"#bd3786\"],[0.5555555555555556,\"#d8576b\"],[0.6666666666666666,\"#ed7953\"],[0.7777777777777778,\"#fb9f3a\"],[0.8888888888888888,\"#fdca26\"],[1.0,\"#f0f921\"]],\"sequentialminus\":[[0.0,\"#0d0887\"],[0.1111111111111111,\"#46039f\"],[0.2222222222222222,\"#7201a8\"],[0.3333333333333333,\"#9c179e\"],[0.4444444444444444,\"#bd3786\"],[0.5555555555555556,\"#d8576b\"],[0.6666666666666666,\"#ed7953\"],[0.7777777777777778,\"#fb9f3a\"],[0.8888888888888888,\"#fdca26\"],[1.0,\"#f0f921\"]]},\"colorway\":[\"#636efa\",\"#EF553B\",\"#00cc96\",\"#ab63fa\",\"#FFA15A\",\"#19d3f3\",\"#FF6692\",\"#B6E880\",\"#FF97FF\",\"#FECB52\"],\"font\":{\"color\":\"#2a3f5f\"},\"geo\":{\"bgcolor\":\"white\",\"lakecolor\":\"white\",\"landcolor\":\"white\",\"showlakes\":true,\"showland\":true,\"subunitcolor\":\"#C8D4E3\"},\"hoverlabel\":{\"align\":\"left\"},\"hovermode\":\"closest\",\"mapbox\":{\"style\":\"light\"},\"paper_bgcolor\":\"white\",\"plot_bgcolor\":\"white\",\"polar\":{\"angularaxis\":{\"gridcolor\":\"#EBF0F8\",\"linecolor\":\"#EBF0F8\",\"ticks\":\"\"},\"bgcolor\":\"white\",\"radialaxis\":{\"gridcolor\":\"#EBF0F8\",\"linecolor\":\"#EBF0F8\",\"ticks\":\"\"}},\"scene\":{\"xaxis\":{\"backgroundcolor\":\"white\",\"gridcolor\":\"#DFE8F3\",\"gridwidth\":2,\"linecolor\":\"#EBF0F8\",\"showbackground\":true,\"ticks\":\"\",\"zerolinecolor\":\"#EBF0F8\"},\"yaxis\":{\"backgroundcolor\":\"white\",\"gridcolor\":\"#DFE8F3\",\"gridwidth\":2,\"linecolor\":\"#EBF0F8\",\"showbackground\":true,\"ticks\":\"\",\"zerolinecolor\":\"#EBF0F8\"},\"zaxis\":{\"backgroundcolor\":\"white\",\"gridcolor\":\"#DFE8F3\",\"gridwidth\":2,\"linecolor\":\"#EBF0F8\",\"showbackground\":true,\"ticks\":\"\",\"zerolinecolor\":\"#EBF0F8\"}},\"shapedefaults\":{\"line\":{\"color\":\"#2a3f5f\"}},\"ternary\":{\"aaxis\":{\"gridcolor\":\"#DFE8F3\",\"linecolor\":\"#A2B1C6\",\"ticks\":\"\"},\"baxis\":{\"gridcolor\":\"#DFE8F3\",\"linecolor\":\"#A2B1C6\",\"ticks\":\"\"},\"bgcolor\":\"white\",\"caxis\":{\"gridcolor\":\"#DFE8F3\",\"linecolor\":\"#A2B1C6\",\"ticks\":\"\"}},\"title\":{\"x\":0.05},\"xaxis\":{\"automargin\":true,\"gridcolor\":\"#EBF0F8\",\"linecolor\":\"#EBF0F8\",\"ticks\":\"\",\"title\":{\"standoff\":15},\"zerolinecolor\":\"#EBF0F8\",\"zerolinewidth\":2},\"yaxis\":{\"automargin\":true,\"gridcolor\":\"#EBF0F8\",\"linecolor\":\"#EBF0F8\",\"ticks\":\"\",\"title\":{\"standoff\":15},\"zerolinecolor\":\"#EBF0F8\",\"zerolinewidth\":2}}},\"title\":{\"text\":\"Bitcoin Price Trend - Past 30 Days\"},\"xaxis\":{\"title\":{\"text\":\"Date\"}},\"yaxis\":{\"title\":{\"text\":\"Price (USD $)\"}},\"hovermode\":\"x unified\"},                        {\"responsive\": true}                    ).then(function(){\n",
              "                            \n",
              "var gd = document.getElementById('f5ce7966-8b21-4d86-b13d-081abe85bd9c');\n",
              "var x = new MutationObserver(function (mutations, observer) {{\n",
              "        var display = window.getComputedStyle(gd).display;\n",
              "        if (!display || display === 'none') {{\n",
              "            console.log([gd, 'removed!']);\n",
              "            Plotly.purge(gd);\n",
              "            observer.disconnect();\n",
              "        }}\n",
              "}});\n",
              "\n",
              "// Listen for the removal of the full notebook cells\n",
              "var notebookContainer = gd.closest('#notebook-container');\n",
              "if (notebookContainer) {{\n",
              "    x.observe(notebookContainer, {childList: true});\n",
              "}}\n",
              "\n",
              "// Listen for the clearing of the current output cell\n",
              "var outputEl = gd.closest('.output');\n",
              "if (outputEl) {{\n",
              "    x.observe(outputEl, {childList: true});\n",
              "}}\n",
              "\n",
              "                        })                };                            </script>        </div>\n",
              "</body>\n",
              "</html>"
            ]
          },
          "metadata": {}
        }
      ],
      "source": [
        "try:\n",
        "    # Create simple line chart\n",
        "    fig_line = go.Figure()\n",
        "\n",
        "    fig_line.add_trace(go.Scatter(\n",
        "        x=data['Date'],\n",
        "        y=data['Price'],\n",
        "        mode='lines',\n",
        "        name='Bitcoin Price',\n",
        "        line=dict(color='orange', width=2)\n",
        "    ))\n",
        "\n",
        "    fig_line.update_layout(\n",
        "        title='Bitcoin Price Trend - Past 30 Days',\n",
        "        xaxis_title='Date',\n",
        "        yaxis_title='Price (USD $)',\n",
        "        template='plotly_white',\n",
        "        hovermode='x unified'\n",
        "    )\n",
        "\n",
        "    # Save line chart\n",
        "    pyo.plot(fig_line, filename='bitcoin_price_trend.html', auto_open=False)\n",
        "    print(\"Price trend chart saved as 'bitcoin_price_trend.html'\")\n",
        "\n",
        "    fig_line.show()\n",
        "except Exception as e:\n",
        "    print(f\"Error creating line chart: {e}\")"
      ]
    }
  ],
  "metadata": {
    "jupytext": {
      "cell_metadata_filter": "-all",
      "main_language": "python",
      "notebook_metadata_filter": "-all"
    },
    "colab": {
      "provenance": []
    },
    "language_info": {
      "name": "python"
    },
    "kernelspec": {
      "name": "python3",
      "display_name": "Python 3"
    }
  },
  "nbformat": 4,
  "nbformat_minor": 5
}