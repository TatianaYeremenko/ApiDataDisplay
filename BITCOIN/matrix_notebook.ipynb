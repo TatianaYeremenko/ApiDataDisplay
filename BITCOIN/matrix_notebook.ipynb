{
 "cells": [
  {
   "cell_type": "markdown",
   "id": "083329ea",
   "metadata": {},
   "source": [
    "Matrix Operations with NumPy - Complete Guide\n",
    "================================================"
   ]
  },
  {
   "cell_type": "code",
   "execution_count": null,
   "id": "e48d8cc5",
   "metadata": {},
   "outputs": [],
   "source": [
    "import numpy as np\n",
    "import matplotlib.pyplot as plt"
   ]
  },
  {
   "cell_type": "code",
   "execution_count": null,
   "id": "5200ba60",
   "metadata": {},
   "outputs": [],
   "source": [
    "print(\"📊 Matrix Operations with NumPy\")\n",
    "print(\"=\" * 40)"
   ]
  },
  {
   "cell_type": "code",
   "execution_count": null,
   "id": "41e358f7",
   "metadata": {},
   "outputs": [],
   "source": [
    "# 1. BASIC MATRIX CREATION\n",
    "print(\"\\n1️⃣ BASIC MATRIX CREATION\")\n",
    "print(\"-\" * 25)"
   ]
  },
  {
   "cell_type": "code",
   "execution_count": null,
   "id": "abdb6063",
   "metadata": {},
   "outputs": [],
   "source": [
    "# Create a 3x3 matrix\n",
    "matrix_a = np.array([[1, 2, 3],\n",
    "                     [4, 5, 6],\n",
    "                     [7, 8, 9]])"
   ]
  },
  {
   "cell_type": "code",
   "execution_count": null,
   "id": "a3560cf8",
   "metadata": {},
   "outputs": [],
   "source": [
    "matrix_b = np.array([[9, 8, 7],\n",
    "                     [6, 5, 4],\n",
    "                     [3, 2, 1]])"
   ]
  },
  {
   "cell_type": "code",
   "execution_count": null,
   "id": "0ca1264e",
   "metadata": {},
   "outputs": [],
   "source": [
    "print(\"Matrix A:\")\n",
    "print(matrix_a)\n",
    "print(\"\\nMatrix B:\")\n",
    "print(matrix_b)"
   ]
  },
  {
   "cell_type": "code",
   "execution_count": null,
   "id": "3adf5ebd",
   "metadata": {},
   "outputs": [],
   "source": [
    "# 2. MATRIX PROPERTIES\n",
    "print(\"\\n2️⃣ MATRIX PROPERTIES\")\n",
    "print(\"-\" * 20)"
   ]
  },
  {
   "cell_type": "code",
   "execution_count": null,
   "id": "8c91499a",
   "metadata": {},
   "outputs": [],
   "source": [
    "print(f\"Shape of A: {matrix_a.shape}\")\n",
    "print(f\"Size of A: {matrix_a.size}\")\n",
    "print(f\"Data type: {matrix_a.dtype}\")\n",
    "print(f\"Number of dimensions: {matrix_a.ndim}\")"
   ]
  },
  {
   "cell_type": "code",
   "execution_count": null,
   "id": "56c81b4f",
   "metadata": {},
   "outputs": [],
   "source": [
    "# 3. MATRIX OPERATIONS\n",
    "print(\"\\n3️⃣ MATRIX OPERATIONS\")\n",
    "print(\"-\" * 21)"
   ]
  },
  {
   "cell_type": "code",
   "execution_count": null,
   "id": "5d11c02e",
   "metadata": {},
   "outputs": [],
   "source": [
    "# Addition\n",
    "print(\"Matrix Addition (A + B):\")\n",
    "addition = matrix_a + matrix_b\n",
    "print(addition)"
   ]
  },
  {
   "cell_type": "code",
   "execution_count": null,
   "id": "57015610",
   "metadata": {},
   "outputs": [],
   "source": [
    "# Subtraction\n",
    "print(\"\\nMatrix Subtraction (A - B):\")\n",
    "subtraction = matrix_a - matrix_b\n",
    "print(subtraction)"
   ]
  },
  {
   "cell_type": "code",
   "execution_count": null,
   "id": "32f7a5d1",
   "metadata": {},
   "outputs": [],
   "source": [
    "# Element-wise multiplication\n",
    "print(\"\\nElement-wise Multiplication (A * B):\")\n",
    "element_mult = matrix_a * matrix_b\n",
    "print(element_mult)"
   ]
  },
  {
   "cell_type": "code",
   "execution_count": null,
   "id": "b7ab0f1c",
   "metadata": {},
   "outputs": [],
   "source": [
    "# Matrix multiplication (dot product)\n",
    "print(\"\\nMatrix Multiplication (A @ B):\")\n",
    "matrix_mult = matrix_a @ matrix_b\n",
    "print(matrix_mult)"
   ]
  },
  {
   "cell_type": "code",
   "execution_count": null,
   "id": "822cb863",
   "metadata": {},
   "outputs": [],
   "source": [
    "# 4. MATRIX TRANSFORMATIONS\n",
    "print(\"\\n4️⃣ MATRIX TRANSFORMATIONS\")\n",
    "print(\"-\" * 25)"
   ]
  },
  {
   "cell_type": "code",
   "execution_count": null,
   "id": "5a4b23bb",
   "metadata": {},
   "outputs": [],
   "source": [
    "# Transpose\n",
    "print(\"Transpose of A:\")\n",
    "transpose_a = matrix_a.T\n",
    "print(transpose_a)"
   ]
  },
  {
   "cell_type": "code",
   "execution_count": null,
   "id": "855c5fd8",
   "metadata": {},
   "outputs": [],
   "source": [
    "# Reshape\n",
    "print(\"\\nReshape A to 1x9:\")\n",
    "reshaped = matrix_a.reshape(1, 9)\n",
    "print(reshaped)"
   ]
  },
  {
   "cell_type": "code",
   "execution_count": null,
   "id": "5e98cc62",
   "metadata": {},
   "outputs": [],
   "source": [
    "print(\"\\nReshape A to 9x1:\")\n",
    "reshaped_col = matrix_a.reshape(9, 1)\n",
    "print(reshaped_col)"
   ]
  },
  {
   "cell_type": "code",
   "execution_count": null,
   "id": "bb47bae9",
   "metadata": {},
   "outputs": [],
   "source": [
    "# 5. SPECIAL MATRICES\n",
    "print(\"\\n5️⃣ SPECIAL MATRICES\")\n",
    "print(\"-\" * 19)"
   ]
  },
  {
   "cell_type": "code",
   "execution_count": null,
   "id": "e931ce60",
   "metadata": {},
   "outputs": [],
   "source": [
    "# Identity matrix\n",
    "identity = np.eye(3)\n",
    "print(\"3x3 Identity Matrix:\")\n",
    "print(identity)"
   ]
  },
  {
   "cell_type": "code",
   "execution_count": null,
   "id": "67807a29",
   "metadata": {},
   "outputs": [],
   "source": [
    "# Zero matrix\n",
    "zeros = np.zeros((3, 4))\n",
    "print(\"\\n3x4 Zero Matrix:\")\n",
    "print(zeros)"
   ]
  },
  {
   "cell_type": "code",
   "execution_count": null,
   "id": "cf108c84",
   "metadata": {},
   "outputs": [],
   "source": [
    "# Ones matrix\n",
    "ones = np.ones((2, 3))\n",
    "print(\"\\n2x3 Ones Matrix:\")\n",
    "print(ones)"
   ]
  },
  {
   "cell_type": "code",
   "execution_count": null,
   "id": "d9ed9a2f",
   "metadata": {},
   "outputs": [],
   "source": [
    "# Random matrix\n",
    "np.random.seed(42)  # For reproducible results\n",
    "random_matrix = np.random.randint(1, 10, (3, 3))\n",
    "print(\"\\n3x3 Random Matrix (1-9):\")\n",
    "print(random_matrix)"
   ]
  },
  {
   "cell_type": "code",
   "execution_count": null,
   "id": "02bf285b",
   "metadata": {},
   "outputs": [],
   "source": [
    "# 6. MATRIX INDEXING & SLICING\n",
    "print(\"\\n6️⃣ MATRIX INDEXING & SLICING\")\n",
    "print(\"-\" * 30)"
   ]
  },
  {
   "cell_type": "code",
   "execution_count": null,
   "id": "f1069f80",
   "metadata": {},
   "outputs": [],
   "source": [
    "test_matrix = np.array([[10, 20, 30],\n",
    "                        [40, 50, 60],\n",
    "                        [70, 80, 90]])"
   ]
  },
  {
   "cell_type": "code",
   "execution_count": null,
   "id": "1ec5cd72",
   "metadata": {},
   "outputs": [],
   "source": [
    "print(\"Test Matrix:\")\n",
    "print(test_matrix)"
   ]
  },
  {
   "cell_type": "code",
   "execution_count": null,
   "id": "d2c14fab",
   "metadata": {},
   "outputs": [],
   "source": [
    "print(f\"\\nElement at [1,2]: {test_matrix[1, 2]}\")\n",
    "print(f\"First row: {test_matrix[0, :]}\")\n",
    "print(f\"Last column: {test_matrix[:, -1]}\")\n",
    "print(f\"2x2 submatrix (top-left):\")\n",
    "print(test_matrix[0:2, 0:2])"
   ]
  },
  {
   "cell_type": "code",
   "execution_count": null,
   "id": "48484e6c",
   "metadata": {},
   "outputs": [],
   "source": [
    "# 7. ADVANCED OPERATIONS\n",
    "print(\"\\n7️⃣ ADVANCED OPERATIONS\")\n",
    "print(\"-\" * 22)"
   ]
  },
  {
   "cell_type": "code",
   "execution_count": null,
   "id": "a2530f3b",
   "metadata": {},
   "outputs": [],
   "source": [
    "# Determinant\n",
    "det_a = np.linalg.det(matrix_a)\n",
    "print(f\"Determinant of A: {det_a:.2f}\")"
   ]
  },
  {
   "cell_type": "code",
   "execution_count": null,
   "id": "40171004",
   "metadata": {},
   "outputs": [],
   "source": [
    "# Eigenvalues and eigenvectors\n",
    "eigenvals, eigenvecs = np.linalg.eig(matrix_a)\n",
    "print(f\"\\nEigenvalues of A: {eigenvals}\")"
   ]
  },
  {
   "cell_type": "code",
   "execution_count": null,
   "id": "14ee8a5e",
   "metadata": {},
   "outputs": [],
   "source": [
    "# Matrix inverse (using a non-singular matrix)\n",
    "invertible_matrix = np.array([[2, 1],\n",
    "                              [1, 1]])\n",
    "inv_matrix = np.linalg.inv(invertible_matrix)\n",
    "print(f\"\\nInvertible Matrix:\")\n",
    "print(invertible_matrix)\n",
    "print(f\"Its Inverse:\")\n",
    "print(inv_matrix)"
   ]
  },
  {
   "cell_type": "code",
   "execution_count": null,
   "id": "2fca80af",
   "metadata": {},
   "outputs": [],
   "source": [
    "# 8. PRACTICAL EXAMPLES\n",
    "print(\"\\n8️⃣ PRACTICAL EXAMPLES\")\n",
    "print(\"-\" * 21)"
   ]
  },
  {
   "cell_type": "code",
   "execution_count": null,
   "id": "191d9e76",
   "metadata": {},
   "outputs": [],
   "source": [
    "# Linear system solving: Ax = b\n",
    "A = np.array([[3, 2],\n",
    "              [1, 4]])\n",
    "b = np.array([7, 6])"
   ]
  },
  {
   "cell_type": "code",
   "execution_count": null,
   "id": "be9a4bfa",
   "metadata": {},
   "outputs": [],
   "source": [
    "x = np.linalg.solve(A, b)\n",
    "print(\"Solving linear system Ax = b:\")\n",
    "print(f\"A = \\n{A}\")\n",
    "print(f\"b = {b}\")\n",
    "print(f\"Solution x = {x}\")\n",
    "print(f\"Verification Ax = {A @ x}\")"
   ]
  },
  {
   "cell_type": "code",
   "execution_count": null,
   "id": "499a7084",
   "metadata": {},
   "outputs": [],
   "source": [
    "# 9. MATRIX STATISTICS\n",
    "print(\"\\n9️⃣ MATRIX STATISTICS\")\n",
    "print(\"-\" * 20)"
   ]
  },
  {
   "cell_type": "code",
   "execution_count": null,
   "id": "028f0d28",
   "metadata": {},
   "outputs": [],
   "source": [
    "stats_matrix = np.array([[1, 2, 3],\n",
    "                         [4, 5, 6],\n",
    "                         [7, 8, 9]])"
   ]
  },
  {
   "cell_type": "code",
   "execution_count": null,
   "id": "b556490a",
   "metadata": {},
   "outputs": [],
   "source": [
    "print(\"Matrix:\")\n",
    "print(stats_matrix)\n",
    "print(f\"\\nSum of all elements: {np.sum(stats_matrix)}\")\n",
    "print(f\"Mean: {np.mean(stats_matrix):.2f}\")\n",
    "print(f\"Standard deviation: {np.std(stats_matrix):.2f}\")\n",
    "print(f\"Row sums: {np.sum(stats_matrix, axis=1)}\")\n",
    "print(f\"Column sums: {np.sum(stats_matrix, axis=0)}\")"
   ]
  },
  {
   "cell_type": "code",
   "execution_count": null,
   "id": "aae760fb",
   "metadata": {},
   "outputs": [],
   "source": [
    "# 10. VISUALIZATION\n",
    "print(\"\\n🔟 MATRIX VISUALIZATION\")\n",
    "print(\"-\" * 23)"
   ]
  },
  {
   "cell_type": "code",
   "execution_count": null,
   "id": "eacb27d9",
   "metadata": {},
   "outputs": [],
   "source": [
    "# Create a sample matrix for visualization\n",
    "viz_matrix = np.random.rand(5, 5)"
   ]
  },
  {
   "cell_type": "code",
   "execution_count": null,
   "id": "7ac0a554",
   "metadata": {},
   "outputs": [],
   "source": [
    "plt.figure(figsize=(12, 4))"
   ]
  },
  {
   "cell_type": "code",
   "execution_count": null,
   "id": "fe6108af",
   "metadata": {},
   "outputs": [],
   "source": [
    "# Plot 1: Matrix as heatmap\n",
    "plt.subplot(1, 3, 1)\n",
    "plt.imshow(viz_matrix, cmap='viridis')\n",
    "plt.title('Matrix Heatmap')\n",
    "plt.colorbar()"
   ]
  },
  {
   "cell_type": "code",
   "execution_count": null,
   "id": "b7c6841f",
   "metadata": {},
   "outputs": [],
   "source": [
    "# Plot 2: Matrix as 3D surface\n",
    "ax = plt.subplot(1, 3, 2, projection='3d')\n",
    "x, y = np.meshgrid(range(5), range(5))\n",
    "ax.plot_surface(x, y, viz_matrix, cmap='plasma')\n",
    "ax.set_title('Matrix as 3D Surface')"
   ]
  },
  {
   "cell_type": "code",
   "execution_count": null,
   "id": "8f451c78",
   "metadata": {},
   "outputs": [],
   "source": [
    "# Plot 3: Matrix values as bar chart\n",
    "plt.subplot(1, 3, 3)\n",
    "plt.bar(range(viz_matrix.size), viz_matrix.flatten())\n",
    "plt.title('Matrix Values as Bars')\n",
    "plt.xlabel('Element Index')\n",
    "plt.ylabel('Value')"
   ]
  },
  {
   "cell_type": "code",
   "execution_count": null,
   "id": "8401c9e5",
   "metadata": {},
   "outputs": [],
   "source": [
    "plt.tight_layout()\n",
    "plt.show()"
   ]
  },
  {
   "cell_type": "code",
   "execution_count": null,
   "id": "556ed0d4",
   "metadata": {},
   "outputs": [],
   "source": [
    "print(\"\\n✅ Matrix operations notebook complete!\")\n",
    "print(\"🎯 Key takeaways:\")\n",
    "print(\"   • Matrices are 2D NumPy arrays\")\n",
    "print(\"   • Use @ for matrix multiplication, * for element-wise\")\n",
    "print(\"   • NumPy provides powerful linear algebra functions\")\n",
    "print(\"   • Indexing uses [row, column] notation\")\n",
    "print(\"   • Visualizations help understand matrix data\")"
   ]
  }
 ],
 "metadata": {
  "jupytext": {
   "cell_metadata_filter": "-all",
   "main_language": "python",
   "notebook_metadata_filter": "-all"
  }
 },
 "nbformat": 4,
 "nbformat_minor": 5
}
