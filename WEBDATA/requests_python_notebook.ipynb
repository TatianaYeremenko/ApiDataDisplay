{
  "cells": [
    {
      "cell_type": "markdown",
      "metadata": {
        "id": "_uO085O2sNc1"
      },
      "source": [
        "# Requests in Python\n",
        "========================================\n",
        "\n",
        "Requests is a Python Library that allows you to send HTTP/1.1 requests easily. This notebook covers:\n",
        "\n",
        "- Basic GET requests\n",
        "- Working with response objects\n",
        "- Downloading files and images\n",
        "- GET requests with URL parameters\n",
        "- POST requests\n",
        "- Handling different content types"
      ]
    },
    {
      "cell_type": "markdown",
      "metadata": {
        "id": "oK5Pa3vtsNc3"
      },
      "source": [
        "## Installing and Importing Required Libraries\n",
        "\n",
        "First, let's import the libraries we'll need for this tutorial:"
      ]
    },
    {
      "cell_type": "code",
      "execution_count": 1,
      "metadata": {
        "colab": {
          "base_uri": "https://localhost:8080/"
        },
        "id": "2Yz2utiSsNc4",
        "outputId": "d23e7a95-b01c-48d1-875e-7cb23386632a"
      },
      "outputs": [
        {
          "output_type": "stream",
          "name": "stdout",
          "text": [
            "All libraries imported successfully!\n"
          ]
        }
      ],
      "source": [
        "# Install required packages if needed\n",
        "# !pip install requests pillow\n",
        "\n",
        "import requests\n",
        "import os\n",
        "from PIL import Image\n",
        "from IPython.display import IFrame\n",
        "\n",
        "print(\"All libraries imported successfully!\")"
      ]
    },
    {
      "cell_type": "markdown",
      "metadata": {
        "id": "WoRzZ6POsNc5"
      },
      "source": [
        "## Basic GET Request\n",
        "\n",
        "You can make a GET request via the method `get()`. Let's start with a simple example to www.ibm.com:"
      ]
    },
    {
      "cell_type": "code",
      "execution_count": 33,
      "metadata": {
        "colab": {
          "base_uri": "https://localhost:8080/"
        },
        "id": "rlZKPDMWsNc5",
        "outputId": "2157fe2f-2725-4afc-ea86-e22746bbae8f"
      },
      "outputs": [
        {
          "output_type": "stream",
          "name": "stdout",
          "text": [
            "Request sent to: https://www.ibm.com/\n",
            "Response object: <Response [200]>\n"
          ]
        }
      ],
      "source": [
        "url = 'https://www.ibm.com/'\n",
        "r = requests.get(url)\n",
        "\n",
        "print(f\"Request sent to: {url}\")\n",
        "print(f\"Response object: {r}\")"
      ]
    },
    {
      "cell_type": "markdown",
      "metadata": {
        "id": "FRYNWNZxsNc5"
      },
      "source": [
        "## Examining the Response Object\n",
        "\n",
        "We have the response object `r`, which contains information about the request. Let's explore its properties:"
      ]
    },
    {
      "cell_type": "code",
      "execution_count": 34,
      "metadata": {
        "colab": {
          "base_uri": "https://localhost:8080/"
        },
        "id": "bmgo1n92sNc6",
        "outputId": "8b9d8897-16d6-4038-a7ed-9e1882fe8622"
      },
      "outputs": [
        {
          "output_type": "stream",
          "name": "stdout",
          "text": [
            "Status code: 200\n",
            "✓ Success! The request was successful.\n"
          ]
        }
      ],
      "source": [
        "# Check the status code\n",
        "print(f\"Status code: {r.status_code}\")\n",
        "\n",
        "# Status codes explanation\n",
        "if r.status_code == 200:\n",
        "    print(\"✓ Success! The request was successful.\")\n",
        "elif r.status_code == 404:\n",
        "    print(\"✗ Error: Page not found.\")\n",
        "else:\n",
        "    print(f\"Response status: {r.status_code}\")"
      ]
    },
    {
      "cell_type": "code",
      "execution_count": 35,
      "metadata": {
        "colab": {
          "base_uri": "https://localhost:8080/"
        },
        "id": "kd4u4d6ZsNc7",
        "outputId": "77604c9a-f3e3-41be-a93e-e2387449791c"
      },
      "outputs": [
        {
          "output_type": "stream",
          "name": "stdout",
          "text": [
            "Request Headers:\n",
            "{'User-Agent': 'python-requests/2.32.3', 'Accept-Encoding': 'gzip, deflate, zstd', 'Accept': '*/*', 'Connection': 'keep-alive', 'Cookie': '_abck=5D93011B6154C42B0BB4D39A24C1BD20~-1~YAAQqonMF67mTliXAQAAFPK4WA4IMnJCPyqxBGKvGa0XyIp0emLvyaQlVKtggWEmsP3hgCw55Yp6ouQKFxZVVsj0LM4pqhppqu9z/9oiw1/U1/FSHOHpkfs4D4FaabLhwFYS1/Qzyc3EH53cxmWeZoBYIljGHqAbhcoqQFhpu7hySlSr8oEMXZhEoxBQzIZYTEviY7qpzO4MlfAR/5zoUGvgrNiEWlSipFambV6Yvg1J6dmKKmg9STvdeO7HjmWS+0a2LDr3gXlXQkwA8yB01J9ZnQhpyGyDlX0kS62SZY0Pad9qqCcExZJ731tmE7cEkfVMFPNM6XSXKj93G5O5WgiiSBsCZkNOF925hCDeyOcZVVOFr2pOKLHmWrofbDgVOvd43svRR+KaWiEGQjvzJaBTLJ0x2KeNJX8O56FwSsSi0VTG5E72V0B2Mz7qfg==~-1~-1~-1; bm_sz=8DA2AFA345A6413C1B42FA0FF236A905~YAAQqonMF6/mTliXAQAAFPK4WBz3j0z5EGjvOvIQuDwigDWjFoz14OhSGrI7QJpWZA2khs1TvuP+2WXrxlG5gMDGimHmY1Ch5TZ4p0qW6RpSZidGQBEA9sTpDs2GIpEgn1Ue1e6ffyXEeJ7h+qFRvX0LfGItg9MxTLD47bRa4E2+mFaCBJlNwt0USdEJhe4mnZxao19iqIwIzi1zeAO9sCpM5onFrgTL2SFU98vvNFu2thBN7YCz8fQKFZXKIOseBJnpSD9QZjzY9eD4/mnyjAPr/YN9H9Ew4WCBlm81TW0or1nPdUturxWbOHqXLkpYjkRdwlvIPxn3cCMMwa2Bnm671zvel1UPvtI=~3618864~4538680'}\n",
            "\n",
            "==================================================\n"
          ]
        }
      ],
      "source": [
        "# View the request headers\n",
        "print(\"Request Headers:\")\n",
        "print(r.request.headers)\n",
        "print(\"\\n\" + \"=\"*50)"
      ]
    },
    {
      "cell_type": "code",
      "execution_count": 36,
      "metadata": {
        "colab": {
          "base_uri": "https://localhost:8080/"
        },
        "id": "qNqvZ4kpsNc7",
        "outputId": "13f963b1-5c80-4f0a-8350-0182de827bf3"
      },
      "outputs": [
        {
          "output_type": "stream",
          "name": "stdout",
          "text": [
            "Request body: None\n",
            "\n",
            "Note: GET requests typically don't have a body, so this returns None.\n"
          ]
        }
      ],
      "source": [
        "# View the request body (will be None for GET requests)\n",
        "print(\"Request body:\", r.request.body)\n",
        "\n",
        "# Explanation\n",
        "print(\"\\nNote: GET requests typically don't have a body, so this returns None.\")"
      ]
    },
    {
      "cell_type": "markdown",
      "metadata": {
        "id": "r9pug2NDsNc8"
      },
      "source": [
        "## Working with Response Headers\n",
        "\n",
        "You can view the HTTP response header using the attribute `headers`. This returns a Python dictionary of HTTP response headers:"
      ]
    },
    {
      "cell_type": "code",
      "execution_count": 37,
      "metadata": {
        "colab": {
          "base_uri": "https://localhost:8080/"
        },
        "id": "fKF-0LmNsNc9",
        "outputId": "5236d650-3f2d-473c-8755-e43441a78aad"
      },
      "outputs": [
        {
          "output_type": "stream",
          "name": "stdout",
          "text": [
            "Response Headers:\n",
            "{'Content-Security-Policy': 'upgrade-insecure-requests', 'x-frame-options': 'SAMEORIGIN', 'Last-Modified': 'Tue, 10 Jun 2025 07:21:55 GMT', 'ETag': 'W/\"2cacc-637328d1fd601-gzip\"', 'Accept-Ranges': 'bytes', 'Content-Type': 'text/html;charset=utf-8', 'X-Content-Type-Options': 'nosniff', 'Cache-Control': 'max-age=600', 'Expires': 'Tue, 10 Jun 2025 07:33:25 GMT', 'X-Akamai-Transformed': '0 - 0 -', 'Content-Encoding': 'gzip', 'Date': 'Tue, 10 Jun 2025 07:23:25 GMT', 'Content-Length': '32164', 'Connection': 'keep-alive', 'Vary': 'Accept-Encoding', 'Strict-Transport-Security': 'max-age=31536000'}\n",
            "\n",
            "==================================================\n",
            "\n",
            "Key Headers:\n",
            "Content-Security-Policy: upgrade-insecure-requests\n",
            "x-frame-options: SAMEORIGIN\n",
            "Last-Modified: Tue, 10 Jun 2025 07:21:55 GMT\n",
            "ETag: W/\"2cacc-637328d1fd601-gzip\"\n",
            "Accept-Ranges: bytes\n",
            "Content-Type: text/html;charset=utf-8\n",
            "X-Content-Type-Options: nosniff\n",
            "Cache-Control: max-age=600\n",
            "Expires: Tue, 10 Jun 2025 07:33:25 GMT\n",
            "X-Akamai-Transformed: 0 - 0 -\n"
          ]
        }
      ],
      "source": [
        "header = r.headers\n",
        "print(\"Response Headers:\")\n",
        "print(header)\n",
        "print(\"\\n\" + \"=\"*50)\n",
        "\n",
        "# Display headers in a more readable format\n",
        "print(\"\\nKey Headers:\")\n",
        "for key, value in list(header.items())[:10]:  # Show first 10 headers\n",
        "    print(f\"{key}: {value}\")"
      ]
    },
    {
      "cell_type": "code",
      "execution_count": 38,
      "metadata": {
        "colab": {
          "base_uri": "https://localhost:8080/"
        },
        "id": "ElIQpKZIsNc9",
        "outputId": "3d6cdc34-b7d7-4f08-b7fd-533deeadfb20"
      },
      "outputs": [
        {
          "output_type": "stream",
          "name": "stdout",
          "text": [
            "Date: Tue, 10 Jun 2025 07:23:25 GMT\n",
            "Content-Type: text/html;charset=utf-8\n",
            "Encoding: utf-8\n"
          ]
        }
      ],
      "source": [
        "# Get specific header information\n",
        "try:\n",
        "    print(f\"Date: {header['date']}\")\n",
        "except KeyError:\n",
        "    print(\"Date header not found\")\n",
        "\n",
        "try:\n",
        "    print(f\"Content-Type: {header['Content-Type']}\")\n",
        "except KeyError:\n",
        "    print(\"Content-Type header not found\")\n",
        "\n",
        "# Check encoding\n",
        "print(f\"Encoding: {r.encoding}\")"
      ]
    },
    {
      "cell_type": "markdown",
      "metadata": {
        "id": "Buj6shTesNc-"
      },
      "source": [
        "## Accessing Response Content\n",
        "\n",
        "As the Content-Type is text/html, we can use the attribute `text` to display the HTML in the body:"
      ]
    },
    {
      "cell_type": "code",
      "execution_count": 39,
      "metadata": {
        "colab": {
          "base_uri": "https://localhost:8080/"
        },
        "id": "fsSc7M_lsNc-",
        "outputId": "241ea5dc-509b-467c-a1b9-3f49ff802645"
      },
      "outputs": [
        {
          "output_type": "stream",
          "name": "stdout",
          "text": [
            "First 500 characters of the response:\n",
            "\n",
            "<!DOCTYPE HTML>\n",
            "<html lang=\"en\">\n",
            "<head>\r\n",
            "    \r\n",
            "    \r\n",
            "    \r\n",
            "    \r\n",
            "    \r\n",
            "    \r\n",
            "    \r\n",
            "      \r\n",
            "    \r\n",
            "    \r\n",
            "    \r\n",
            "    \r\n",
            "    <meta charset=\"UTF-8\"/>\r\n",
            "    <meta name=\"languageCode\" content=\"en\"/>\r\n",
            "    <meta name=\"countryCode\" content=\"us\"/>\r\n",
            "    <meta name=\"searchTitle\" content=\"IBM - United States\"/>\r\n",
            "    <meta name=\"focusArea\" content=\"Cross IBM SDRs\"/>\r\n",
            "    <title>IBM - United States</title>\r\n",
            "      <script defer=\"defer\" type=\"text/javascript\" src=\"https://rum.hlx.page/.rum/@adobe/helix-rum-js@%5E2/\n",
            "\n",
            "...\n",
            "\n",
            "Total response length: 183341 characters\n"
          ]
        }
      ],
      "source": [
        "# Review the first 500 characters of the response\n",
        "print(\"First 500 characters of the response:\")\n",
        "print(r.text[0:500])\n",
        "print(\"\\n...\")\n",
        "\n",
        "# Show the total length\n",
        "print(f\"\\nTotal response length: {len(r.text)} characters\")"
      ]
    },
    {
      "cell_type": "markdown",
      "metadata": {
        "id": "Cc0_xPzisNc-"
      },
      "source": [
        "## Downloading Images\n",
        "\n",
        "You can load other types of data for non-text requests, like images. Let's download an image:"
      ]
    },
    {
      "cell_type": "code",
      "execution_count": 9,
      "metadata": {
        "colab": {
          "base_uri": "https://localhost:8080/"
        },
        "id": "5Qob7v1esNc-",
        "outputId": "224a340a-ab38-4181-8d09-5efdedc02d5c"
      },
      "outputs": [
        {
          "output_type": "stream",
          "name": "stdout",
          "text": [
            "Image request status: 200\n",
            "Content length: 78776 bytes\n"
          ]
        }
      ],
      "source": [
        "# Use single quotation marks for defining string\n",
        "url = 'https://cf-courses-data.s3.us.cloud-object-storage.appdomain.cloud/IBMDeveloperSkillsNetwork-PY0101EN-SkillsNetwork/IDSNlogo.png'\n",
        "\n",
        "# Make a get request\n",
        "r = requests.get(url)\n",
        "\n",
        "print(f\"Image request status: {r.status_code}\")\n",
        "print(f\"Content length: {len(r.content)} bytes\")"
      ]
    },
    {
      "cell_type": "code",
      "execution_count": 10,
      "metadata": {
        "colab": {
          "base_uri": "https://localhost:8080/"
        },
        "id": "x5VpW8ZBsNc_",
        "outputId": "ccb1f38c-cb4e-4a35-f21a-9794711fc630"
      },
      "outputs": [
        {
          "output_type": "stream",
          "name": "stdout",
          "text": [
            "Image Response Headers:\n",
            "{'Date': 'Tue, 10 Jun 2025 07:16:15 GMT', 'X-Clv-Request-Id': 'b9d0c517-8c97-4e73-8856-e5836a3142eb', 'Server': 'Cleversafe', 'X-Clv-S3-Version': '2.5', 'Accept-Ranges': 'bytes', 'x-amz-request-id': 'b9d0c517-8c97-4e73-8856-e5836a3142eb', 'ETag': '\"8bb44578fff8fdcc3d2972be9ece0164\"', 'Content-Type': 'image/png', 'Last-Modified': 'Wed, 16 Nov 2022 03:32:41 GMT', 'Content-Length': '78776'}\n",
            "\n",
            "========================================\n",
            "Content-Type: image/png\n"
          ]
        }
      ],
      "source": [
        "# Look at the response header\n",
        "print(\"Image Response Headers:\")\n",
        "print(r.headers)\n",
        "print(\"\\n\" + \"=\"*40)\n",
        "\n",
        "# Check the Content-Type\n",
        "print(f\"Content-Type: {r.headers['Content-Type']}\")"
      ]
    },
    {
      "cell_type": "code",
      "execution_count": 11,
      "metadata": {
        "colab": {
          "base_uri": "https://localhost:8080/"
        },
        "id": "py4pqDLYsNc_",
        "outputId": "d12bdb90-3d76-40a8-a54c-72866b155742"
      },
      "outputs": [
        {
          "output_type": "stream",
          "name": "stdout",
          "text": [
            "Saving image to: /content/image.png\n",
            "Image saved successfully!\n",
            "File size: 78776 bytes\n"
          ]
        }
      ],
      "source": [
        "# An image is a response object that contains the image as a bytes-like object\n",
        "# We must save it using a file object\n",
        "\n",
        "# Specify the file path and name\n",
        "path = os.path.join(os.getcwd(), 'image.png')\n",
        "print(f\"Saving image to: {path}\")\n",
        "\n",
        "# Save the file using the content attribute\n",
        "with open(path, 'wb') as f:\n",
        "    f.write(r.content)\n",
        "\n",
        "print(\"Image saved successfully!\")\n",
        "print(f\"File size: {os.path.getsize(path)} bytes\")"
      ]
    },
    {
      "cell_type": "code",
      "execution_count": 12,
      "metadata": {
        "colab": {
          "base_uri": "https://localhost:8080/"
        },
        "id": "96zk_C2isNc_",
        "outputId": "7012a517-8619-463e-8f1c-67b65cbd4edc"
      },
      "outputs": [
        {
          "output_type": "stream",
          "name": "stdout",
          "text": [
            "Image dimensions: (1880, 656)\n",
            "Image mode: RGBA\n"
          ]
        }
      ],
      "source": [
        "# View the image\n",
        "try:\n",
        "    img = Image.open(path)\n",
        "    print(f\"Image dimensions: {img.size}\")\n",
        "    print(f\"Image mode: {img.mode}\")\n",
        "\n",
        "    # Display the image (this will show in Jupyter)\n",
        "    img.show()\n",
        "\n",
        "except Exception as e:\n",
        "    print(f\"Error opening image: {e}\")"
      ]
    },
    {
      "cell_type": "markdown",
      "metadata": {
        "id": "UrviHBkRsNc_"
      },
      "source": [
        "## Exercise: Download a Text File\n",
        "\n",
        "Let's practice downloading a text file from a given URL:"
      ]
    },
    {
      "cell_type": "code",
      "execution_count": 13,
      "metadata": {
        "colab": {
          "base_uri": "https://localhost:8080/"
        },
        "id": "l3hXUFNDsNdA",
        "outputId": "fe452758-882c-4676-c7cd-3de500e49a57"
      },
      "outputs": [
        {
          "output_type": "stream",
          "name": "stdout",
          "text": [
            "File downloaded successfully!\n",
            "File saved as: Example1.txt\n",
            "\n",
            "File content:\n",
            "This is line 1 \n",
            "This is line 2\n",
            "This is line 3\n"
          ]
        }
      ],
      "source": [
        "# Exercise: Download a file\n",
        "URL = 'https://cf-courses-data.s3.us.cloud-object-storage.appdomain.cloud/IBMDeveloperSkillsNetwork-PY0101EN-SkillsNetwork/labs/Module%205/data/Example1.txt'\n",
        "\n",
        "# Make the request\n",
        "response = requests.get(URL)\n",
        "\n",
        "# Check if request was successful\n",
        "if response.status_code == 200:\n",
        "    print(\"File downloaded successfully!\")\n",
        "\n",
        "    # Save the file\n",
        "    filename = 'Example1.txt'\n",
        "    with open(filename, 'w', encoding='utf-8') as f:\n",
        "        f.write(response.text)\n",
        "\n",
        "    print(f\"File saved as: {filename}\")\n",
        "\n",
        "    # Display the content\n",
        "    print(\"\\nFile content:\")\n",
        "    print(response.text)\n",
        "\n",
        "else:\n",
        "    print(f\"Failed to download file. Status code: {response.status_code}\")"
      ]
    },
    {
      "cell_type": "markdown",
      "metadata": {
        "id": "2xux9h7usNdA"
      },
      "source": [
        "## GET Request with URL Parameters\n",
        "\n",
        "You can use the GET method to modify the results of your query, for example retrieving data from an API. We'll use http://httpbin.org/ which is a simple HTTP Request & Response Service."
      ]
    },
    {
      "cell_type": "code",
      "execution_count": 14,
      "metadata": {
        "colab": {
          "base_uri": "https://localhost:8080/"
        },
        "id": "IpppNIU-sNdA",
        "outputId": "53ab72a2-3585-44e7-e105-1d42be47bde9"
      },
      "outputs": [
        {
          "output_type": "stream",
          "name": "stdout",
          "text": [
            "Base URL: http://httpbin.org/get\n",
            "This endpoint echoes back the request information we send to it.\n"
          ]
        }
      ],
      "source": [
        "# The Base URL for httpbin.org GET endpoint\n",
        "url_get = 'http://httpbin.org/get'\n",
        "\n",
        "print(f\"Base URL: {url_get}\")\n",
        "print(\"This endpoint echoes back the request information we send to it.\")"
      ]
    },
    {
      "cell_type": "markdown",
      "metadata": {
        "id": "g0np0MI7sNdA"
      },
      "source": [
        "### Understanding Query Strings\n",
        "\n",
        "A query string is a part of a URL that sends additional information to the web server. The start of the query is a `?`, followed by parameter and value pairs separated by `=`, and multiple pairs are separated by `&`.\n",
        "\n",
        "Example: `?name=Joseph&ID=123`"
      ]
    },
    {
      "cell_type": "code",
      "execution_count": 40,
      "metadata": {
        "colab": {
          "base_uri": "https://localhost:8080/"
        },
        "id": "w-MI7xT9sNdA",
        "outputId": "b96c2ab8-aeaa-48aa-d3ee-25ac2e16a744"
      },
      "outputs": [
        {
          "output_type": "stream",
          "name": "stdout",
          "text": [
            "Parameters to send:\n",
            "  name: Joseph\n",
            "  ID: 123\n"
          ]
        }
      ],
      "source": [
        "# Create a Query string using a dictionary\n",
        "# The keys are the parameter names and the values are the values\n",
        "payload = {\"name\": \"Joseph\", \"ID\": \"123\"}\n",
        "\n",
        "print(\"Parameters to send:\")\n",
        "for key, value in payload.items():\n",
        "    print(f\"  {key}: {value}\")"
      ]
    },
    {
      "cell_type": "code",
      "execution_count": 41,
      "metadata": {
        "colab": {
          "base_uri": "https://localhost:8080/"
        },
        "id": "4lmoPMhJsNdB",
        "outputId": "f3ba4f99-438a-4e85-a36f-70e14aca89dd"
      },
      "outputs": [
        {
          "output_type": "stream",
          "name": "stdout",
          "text": [
            "Final URL: http://httpbin.org/get?name=Joseph&ID=123\n",
            "\n",
            "Notice how the parameters were automatically added to the URL!\n"
          ]
        }
      ],
      "source": [
        "# Pass the dictionary payload to the params parameter of get()\n",
        "r = requests.get(url_get, params=payload)\n",
        "\n",
        "# Print out the URL and see the name and values\n",
        "print(f\"Final URL: {r.url}\")\n",
        "print(\"\\nNotice how the parameters were automatically added to the URL!\")"
      ]
    },
    {
      "cell_type": "code",
      "execution_count": 17,
      "metadata": {
        "colab": {
          "base_uri": "https://localhost:8080/"
        },
        "id": "sRU_XRW0sNdB",
        "outputId": "1cd5bd51-e5b2-49bd-8eee-421bcc33f5c3"
      },
      "outputs": [
        {
          "output_type": "stream",
          "name": "stdout",
          "text": [
            "Request body: None\n",
            "Status code: 200\n"
          ]
        }
      ],
      "source": [
        "# Check the request body (should be None for GET)\n",
        "print(\"Request body:\", r.request.body)\n",
        "\n",
        "# Check the status code\n",
        "print(f\"Status code: {r.status_code}\")"
      ]
    },
    {
      "cell_type": "code",
      "execution_count": 18,
      "metadata": {
        "colab": {
          "base_uri": "https://localhost:8080/"
        },
        "id": "fF8bmz2TsNdB",
        "outputId": "b70b1633-6e3a-493e-bfd6-2fd40b7f9cf3"
      },
      "outputs": [
        {
          "output_type": "stream",
          "name": "stdout",
          "text": [
            "Response text:\n",
            "{\n",
            "  \"args\": {\n",
            "    \"ID\": \"123\", \n",
            "    \"name\": \"Joseph\"\n",
            "  }, \n",
            "  \"headers\": {\n",
            "    \"Accept\": \"*/*\", \n",
            "    \"Accept-Encoding\": \"gzip, deflate, zstd\", \n",
            "    \"Host\": \"httpbin.org\", \n",
            "    \"User-Agent\": \"python-requests/2.32.3\", \n",
            "    \"X-Amzn-Trace-Id\": \"Root=1-6847dc22-770e2380477b025654c50d57\"\n",
            "  }, \n",
            "  \"origin\": \"35.196.50.165\", \n",
            "  \"url\": \"http://httpbin.org/get?name=Joseph&ID=123\"\n",
            "}\n",
            "\n",
            "\n",
            "==================================================\n"
          ]
        }
      ],
      "source": [
        "# View the response as text\n",
        "print(\"Response text:\")\n",
        "print(r.text)\n",
        "print(\"\\n\" + \"=\"*50)"
      ]
    },
    {
      "cell_type": "code",
      "execution_count": 42,
      "metadata": {
        "colab": {
          "base_uri": "https://localhost:8080/"
        },
        "id": "qqVlsoMusNdB",
        "outputId": "89683e0b-71da-4087-d297-80f0e415232c"
      },
      "outputs": [
        {
          "output_type": "stream",
          "name": "stdout",
          "text": [
            "Content-Type: application/json\n",
            "\n",
            "Parsed JSON response:\n",
            "{'args': {'ID': '123', 'name': 'Joseph'}, 'headers': {'Accept': '*/*', 'Accept-Encoding': 'gzip, deflate, zstd', 'Host': 'httpbin.org', 'User-Agent': 'python-requests/2.32.3', 'X-Amzn-Trace-Id': 'Root=1-6847de28-08e6255d0d697bb5537c01df'}, 'origin': '35.196.50.165', 'url': 'http://httpbin.org/get?name=Joseph&ID=123'}\n"
          ]
        }
      ],
      "source": [
        "# Check the Content-Type\n",
        "print(f\"Content-Type: {r.headers['Content-Type']}\")\n",
        "\n",
        "# Since the content is in JSON format, we can use the json() method\n",
        "# It returns a Python dict\n",
        "response_data = r.json()\n",
        "print(\"\\nParsed JSON response:\")\n",
        "print(response_data)"
      ]
    },
    {
      "cell_type": "code",
      "execution_count": 43,
      "metadata": {
        "colab": {
          "base_uri": "https://localhost:8080/"
        },
        "id": "3Kb2w7KPsNdB",
        "outputId": "29271e7b-e56d-491d-a989-189499eaa27a"
      },
      "outputs": [
        {
          "output_type": "stream",
          "name": "stdout",
          "text": [
            "Parameters that were sent:\n",
            "{'ID': '123', 'name': 'Joseph'}\n",
            "\n",
            "Other request information:\n",
            "Headers sent: {'Accept': '*/*', 'Accept-Encoding': 'gzip, deflate, zstd', 'Host': 'httpbin.org', 'User-Agent': 'python-requests/2.32.3', 'X-Amzn-Trace-Id': 'Root=1-6847de28-08e6255d0d697bb5537c01df'}\n",
            "Origin IP: 35.196.50.165\n",
            "URL: http://httpbin.org/get?name=Joseph&ID=123\n"
          ]
        }
      ],
      "source": [
        "# The key 'args' contains our parameters\n",
        "print(\"Parameters that were sent:\")\n",
        "print(r.json()['args'])\n",
        "\n",
        "# We can also access other information\n",
        "print(\"\\nOther request information:\")\n",
        "print(f\"Headers sent: {r.json()['headers']}\")\n",
        "print(f\"Origin IP: {r.json()['origin']}\")\n",
        "print(f\"URL: {r.json()['url']}\")"
      ]
    },
    {
      "cell_type": "markdown",
      "metadata": {
        "id": "QhuwDr1YsNdB"
      },
      "source": [
        "## POST Requests\n",
        "\n",
        "Like a GET request, a POST is used to send data to a server, but the POST request sends the data in a request body instead of the URL parameters."
      ]
    },
    {
      "cell_type": "code",
      "execution_count": 44,
      "metadata": {
        "colab": {
          "base_uri": "https://localhost:8080/"
        },
        "id": "Zh_XuT4csNdC",
        "outputId": "d0928e77-3273-43d4-eb44-411955c1eafe"
      },
      "outputs": [
        {
          "output_type": "stream",
          "name": "stdout",
          "text": [
            "POST endpoint: http://httpbin.org/post\n",
            "This endpoint will expect data as a file or as a form.\n"
          ]
        }
      ],
      "source": [
        "# For POST requests, we change the route to POST\n",
        "url_post = 'http://httpbin.org/post'\n",
        "\n",
        "print(f\"POST endpoint: {url_post}\")\n",
        "print(\"This endpoint will expect data as a file or as a form.\")"
      ]
    },
    {
      "cell_type": "code",
      "execution_count": 47,
      "metadata": {
        "colab": {
          "base_uri": "https://localhost:8080/"
        },
        "id": "DCpfS_aasNdC",
        "outputId": "2c54af90-c9f3-486d-f02e-d775069e6b89"
      },
      "outputs": [
        {
          "output_type": "stream",
          "name": "stdout",
          "text": [
            "POST request status: 200\n"
          ]
        }
      ],
      "source": [
        "# Make a POST request using the same payload\n",
        "# The variable payload is passed to the parameter 'data'\n",
        "payload = {\"name\": \"Joseph\", \"ID\": \"123\"}\n",
        "r_post = requests.post(url_post, data=payload)\n",
        "\n",
        "print(f\"POST request status: {r_post.status_code}\")"
      ]
    },
    {
      "cell_type": "code",
      "execution_count": 48,
      "metadata": {
        "colab": {
          "base_uri": "https://localhost:8080/"
        },
        "id": "CYY4ezhLsNdC",
        "outputId": "32c9cbb5-1be9-44d2-d124-08e7e0fd7156"
      },
      "outputs": [
        {
          "output_type": "stream",
          "name": "stdout",
          "text": [
            "POST request URL: http://httpbin.org/post\n",
            "GET request URL: http://httpbin.org/get?name=Joseph&ID=123\n",
            "\n",
            "Notice: POST request has no parameters in the URL!\n"
          ]
        }
      ],
      "source": [
        "# Compare the URLs from GET and POST requests\n",
        "print(f\"POST request URL: {r_post.url}\")\n",
        "print(f\"GET request URL: {r.url}\")\n",
        "print(\"\\nNotice: POST request has no parameters in the URL!\")"
      ]
    },
    {
      "cell_type": "code",
      "execution_count": 49,
      "metadata": {
        "colab": {
          "base_uri": "https://localhost:8080/"
        },
        "id": "rlb9eZ5AsNdC",
        "outputId": "189e1fad-272c-4b1e-efe8-c486f4a6672f"
      },
      "outputs": [
        {
          "output_type": "stream",
          "name": "stdout",
          "text": [
            "POST request body: name=Josepf&ID=124\n",
            "GET request body: None\n",
            "\n",
            "Notice: Only the POST request has a body containing the data!\n"
          ]
        }
      ],
      "source": [
        "# Compare the request bodies\n",
        "print(f\"POST request body: {r_post.request.body}\")\n",
        "print(f\"GET request body: {r.request.body}\")\n",
        "print(\"\\nNotice: Only the POST request has a body containing the data!\")"
      ]
    },
    {
      "cell_type": "code",
      "execution_count": 50,
      "metadata": {
        "colab": {
          "base_uri": "https://localhost:8080/"
        },
        "id": "AtHJxAg7sNdC",
        "outputId": "8b4e680e-d73b-4803-dda5-ed858a9cc779"
      },
      "outputs": [
        {
          "output_type": "stream",
          "name": "stdout",
          "text": [
            "POST Response (JSON):\n",
            "{'args': {}, 'data': '', 'files': {}, 'form': {'ID': '124', 'name': 'Josepf'}, 'headers': {'Accept': '*/*', 'Accept-Encoding': 'gzip, deflate, zstd', 'Content-Length': '18', 'Content-Type': 'application/x-www-form-urlencoded', 'Host': 'httpbin.org', 'User-Agent': 'python-requests/2.32.3', 'X-Amzn-Trace-Id': 'Root=1-6847de80-40289e1f2d19a92164b7ba84'}, 'json': None, 'origin': '35.196.50.165', 'url': 'http://httpbin.org/post'}\n",
            "\n",
            "==================================================\n"
          ]
        }
      ],
      "source": [
        "# View the complete POST response\n",
        "print(\"POST Response (JSON):\")\n",
        "post_data = r_post.json()\n",
        "print(post_data)\n",
        "print(\"\\n\" + \"=\"*50)"
      ]
    },
    {
      "cell_type": "code",
      "execution_count": 52,
      "metadata": {
        "colab": {
          "base_uri": "https://localhost:8080/"
        },
        "id": "LpsQcMpIsNdD",
        "outputId": "c5ae64b4-d5d4-4fe6-bc55-e85bdb2a70dd"
      },
      "outputs": [
        {
          "output_type": "stream",
          "name": "stdout",
          "text": [
            "Form data that was sent:\n",
            "{'ID': '124', 'name': 'Josepf'}\n",
            "\n",
            "Files section:\n",
            "{}\n",
            "\n",
            "Other POST information:\n",
            "Content-Type: application/x-www-form-urlencoded\n",
            "Content-Length: 18\n"
          ]
        }
      ],
      "source": [
        "# View the form data that was sent\n",
        "print(\"Form data that was sent:\")\n",
        "print(r_post.json()['form'])\n",
        "\n",
        "# Compare with the files section (should be empty)\n",
        "print(\"\\nFiles section:\")\n",
        "print(r_post.json()['files'])\n",
        "\n",
        "# View other POST-specific information\n",
        "print(\"\\nOther POST information:\")\n",
        "print(f\"Content-Type: {r_post.json()['headers'].get('Content-Type', 'Not specified')}\")\n",
        "print(f\"Content-Length: {r_post.json()['headers'].get('Content-Length', 'Not specified')}\")"
      ]
    },
    {
      "cell_type": "markdown",
      "metadata": {
        "id": "148LvC6ysNdD"
      },
      "source": [
        "## Summary and Best Practices\n",
        "\n",
        "In this notebook, we covered:\n",
        "\n",
        "1. **Basic GET requests** - Fetching web pages and APIs\n",
        "2. **Response handling** - Status codes, headers, and content\n",
        "3. **File downloads** - Images and text files\n",
        "4. **URL parameters** - Adding query strings to GET requests\n",
        "5. **POST requests** - Sending data in request body\n",
        "6. **JSON handling** - Working with API responses\n",
        "\n",
        "### Key Takeaways:\n",
        "- **GET requests** send parameters in the URL\n",
        "- **POST requests** send data in the request body\n",
        "- Always check the **status code** (200 = success)\n",
        "- Use **r.text** for text content, **r.content** for binary data\n",
        "- Use **r.json()** for JSON responses\n",
        "- Handle exceptions for robust applications\n",
        "\n",
        "### Next Steps:\n",
        "- Learn about authentication (API keys, OAuth)\n",
        "- Explore session management for multiple requests\n",
        "- Practice with real APIs (Twitter, GitHub, etc.)\n",
        "- Add error handling and retry logic"
      ]
    },
    {
      "cell_type": "code",
      "execution_count": 53,
      "metadata": {
        "colab": {
          "base_uri": "https://localhost:8080/"
        },
        "id": "0Oroq8ZssNdD",
        "outputId": "6e1b710c-00f2-475f-fad0-aefa28b5aa7c"
      },
      "outputs": [
        {
          "output_type": "stream",
          "name": "stdout",
          "text": [
            "Testing safe request function:\n",
            "Success! Status: 200\n"
          ]
        }
      ],
      "source": [
        "# Example of robust request with error handling\n",
        "def safe_request(url, method='GET', **kwargs):\n",
        "    \"\"\"\n",
        "    Make a safe HTTP request with error handling\n",
        "    \"\"\"\n",
        "    try:\n",
        "        if method.upper() == 'GET':\n",
        "            response = requests.get(url, timeout=10, **kwargs)\n",
        "        elif method.upper() == 'POST':\n",
        "            response = requests.post(url, timeout=10, **kwargs)\n",
        "\n",
        "        response.raise_for_status()  # Raises an exception for bad status codes\n",
        "        return response\n",
        "\n",
        "    except requests.exceptions.Timeout:\n",
        "        print(\"Request timed out\")\n",
        "    except requests.exceptions.ConnectionError:\n",
        "        print(\"Connection error\")\n",
        "    except requests.exceptions.RequestException as e:\n",
        "        print(f\"An error occurred: {e}\")\n",
        "\n",
        "    return None\n",
        "\n",
        "# Test the safe request function\n",
        "print(\"Testing safe request function:\")\n",
        "response = safe_request('http://httpbin.org/get')\n",
        "if response:\n",
        "    print(f\"Success! Status: {response.status_code}\")\n",
        "else:\n",
        "    print(\"Request failed\")"
      ]
    },
    {
      "cell_type": "code",
      "source": [],
      "metadata": {
        "id": "AZL00XoJw40A"
      },
      "execution_count": null,
      "outputs": []
    }
  ],
  "metadata": {
    "kernelspec": {
      "display_name": "Python 3",
      "name": "python3"
    },
    "language_info": {
      "codemirror_mode": {
        "name": "ipython",
        "version": 3
      },
      "file_extension": ".py",
      "mimetype": "text/x-python",
      "name": "python",
      "nbconvert_exporter": "python",
      "pygments_lexer": "ipython3",
      "version": "3.8.5"
    },
    "colab": {
      "provenance": []
    }
  },
  "nbformat": 4,
  "nbformat_minor": 0
}