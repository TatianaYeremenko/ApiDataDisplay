{
  "cells": [
    {
      "cell_type": "markdown",
      "metadata": {},
      "source": [
        "# Popular Python Data Visualization Libraries\n",
        "========================================\n",
        "\n",
        "This notebook covers the most popular data visualization libraries in Python with simple examples.\n",
        "\n",
        "**Libraries covered:**\n",
        "- Matplotlib\n",
        "- Seaborn\n",
        "- Plotly\n",
        "- Bokeh"
      ]
    },
    {
      "cell_type": "code",
      "execution_count": null,
      "metadata": {},
      "outputs": [],
      "source": [
        "# Install libraries if needed (uncomment line below if not installed)\n",
        "# !pip install matplotlib seaborn plotly bokeh pandas numpy\n",
        "\n",
        "# Import matplotlib for basic plotting functionality\n",
        "import matplotlib.pyplot as plt\n",
        "# Import seaborn for statistical visualizations\n",
        "import seaborn as sns\n",
        "# Import plotly express for easy interactive plots\n",
        "import plotly.express as px\n",
        "# Import plotly graph objects for advanced interactive plots\n",
        "import plotly.graph_objects as go\n",
        "# Import bokeh plotting functions for web-based visualizations\n",
        "from bokeh.plotting import figure, show\n",
        "# Import bokeh output function to enable notebook display\n",
        "from bokeh.io import output_notebook\n",
        "# Import pandas for data manipulation\n",
        "import pandas as pd\n",
        "# Import numpy for numerical operations\n",
        "import numpy as np\n",
        "\n",
        "# Set random seed for reproducible results\n",
        "np.random.seed(42)\n",
        "# Create sample data dictionary with x values, y values, and categories\n",
        "data = {\n",
        "    'x': range(1, 11),  # Create x values from 1 to 10\n",
        "    'y': np.random.randint(10, 100, 10),  # Generate 10 random integers between 10-100\n",
        "    'category': ['A', 'B', 'A', 'B', 'A', 'B', 'A', 'B', 'A', 'B']  # Alternating categories\n",
        "}\n",
        "# Convert dictionary to pandas DataFrame for easier manipulation\n",
        "df = pd.DataFrame(data)\n",
        "\n",
        "# Enable Bokeh plots to display in Jupyter notebook\n",
        "output_notebook()\n",
        "\n",
        "# Print confirmation message\n",
        "print(\"Libraries loaded successfully!\")\n",
        "# Display first 5 rows of sample data\n",
        "print(df.head())"
      ]
    },
    {
      "cell_type": "markdown",
      "metadata": {},
      "source": [
        "## 1. Matplotlib\n",
        "The foundational plotting library for Python. Great for basic plots and fine-grained control."
      ]
    },
    {
      "cell_type": "code",
      "execution_count": null,
      "metadata": {},
      "outputs": [],
      "source": [
        "# Example 1: Line Plot\n",
        "# Create a figure with specified size (10 inches wide, 4 inches tall)\n",
        "plt.figure(figsize=(10, 4))\n",
        "\n",
        "# Create first subplot (1 row, 2 columns, position 1)\n",
        "plt.subplot(1, 2, 1)\n",
        "# Plot line chart with x and y data, add circle markers, set color to blue\n",
        "plt.plot(df['x'], df['y'], marker='o', color='blue')\n",
        "# Set title for the plot\n",
        "plt.title('Line Plot')\n",
        "# Set label for x-axis\n",
        "plt.xlabel('X values')\n",
        "# Set label for y-axis\n",
        "plt.ylabel('Y values')\n",
        "# Add grid lines for better readability\n",
        "plt.grid(True)\n",
        "\n",
        "# Example 2: Bar Chart\n",
        "# Create second subplot (1 row, 2 columns, position 2)\n",
        "plt.subplot(1, 2, 2)\n",
        "# Create bar chart with x and y data, set color to orange\n",
        "plt.bar(df['x'], df['y'], color='orange')\n",
        "# Set title for the bar chart\n",
        "plt.title('Bar Chart')\n",
        "# Set label for x-axis\n",
        "plt.xlabel('X values')\n",
        "# Set label for y-axis\n",
        "plt.ylabel('Y values')\n",
        "\n",
        "# Automatically adjust subplot spacing for better layout\n",
        "plt.tight_layout()\n",
        "# Display the plots\n",
        "plt.show()"
      ]
    },
    {
      "cell_type": "markdown",
      "metadata": {},
      "source": [
        "## 2. Seaborn\n",
        "Built on Matplotlib, provides beautiful statistical visualizations with less code."
      ]
    },
    {
      "cell_type": "code",
      "execution_count": null,
      "metadata": {},
      "outputs": [],
      "source": [
        "# Example 1: Scatter Plot with Categories\n",
        "# Create a figure with specified size (10 inches wide, 4 inches tall)\n",
        "plt.figure(figsize=(10, 4))\n",
        "\n",
        "# Create first subplot (1 row, 2 columns, position 1)\n",
        "plt.subplot(1, 2, 1)\n",
        "# Create scatter plot using seaborn with color-coded categories\n",
        "# data=df: use our DataFrame, x='x': x-axis column, y='y': y-axis column\n",
        "# hue='category': color points by category, s=100: set point size\n",
        "sns.scatterplot(data=df, x='x', y='y', hue='category', s=100)\n",
        "# Set title for the scatter plot\n",
        "plt.title('Scatter Plot by Category')\n",
        "\n",
        "# Example 2: Box Plot\n",
        "# Create second subplot (1 row, 2 columns, position 2)\n",
        "plt.subplot(1, 2, 2)\n",
        "# Create box plot to show distribution of y values by category\n",
        "# data=df: use our DataFrame, x='category': group by category, y='y': values to plot\n",
        "sns.boxplot(data=df, x='category', y='y')\n",
        "# Set title for the box plot\n",
        "plt.title('Box Plot by Category')\n",
        "\n",
        "# Automatically adjust subplot spacing for better layout\n",
        "plt.tight_layout()\n",
        "# Display the plots\n",
        "plt.show()"
      ]
    },
    {
      "cell_type": "markdown",
      "metadata": {},
      "source": [
        "## 3. Plotly\n",
        "Interactive visualizations that work in web browsers. Great for dashboards and interactive analysis."
      ]
    },
    {
      "cell_type": "code",
      "execution_count": null,
      "metadata": {},
      "outputs": [],
      "source": [
        "# Example 1: Interactive Scatter Plot\n",
        "# Create interactive scatter plot using plotly express\n",
        "# df: DataFrame to use, x='x': x-axis column, y='y': y-axis column\n",
        "# color='category': color points by category for visual distinction\n",
        "# title: set plot title, hover_data: show additional info on hover\n",
        "fig1 = px.scatter(df, x='x', y='y', color='category', \n",
        "                  title='Interactive Scatter Plot',\n",
        "                  hover_data=['x', 'y'])\n",
        "# Display the interactive plot\n",
        "fig1.show()\n",
        "\n",
        "# Example 2: Interactive Line Chart\n",
        "# Create empty figure object for custom interactive plot\n",
        "fig2 = go.Figure()\n",
        "# Add scatter trace with line and marker mode\n",
        "# x=df['x']: x-axis data, y=df['y']: y-axis data\n",
        "# mode='lines+markers': show both line and points\n",
        "# name: legend label for this trace\n",
        "fig2.add_trace(go.Scatter(x=df['x'], y=df['y'], \n",
        "                          mode='lines+markers',\n",
        "                          name='Data Points'))\n",
        "# Update layout with title and axis labels\n",
        "# title: main plot title, xaxis_title: x-axis label, yaxis_title: y-axis label\n",
        "fig2.update_layout(title='Interactive Line Chart',\n",
        "                   xaxis_title='X values',\n",
        "                   yaxis_title='Y values')\n",
        "# Display the interactive plot\n",
        "fig2.show()"
      ]
    },
    {
      "cell_type": "markdown",
      "metadata": {},
      "source": [
        "## 4. Bokeh\n",
        "Creates interactive web visualizations with a focus on modern web browsers."
      ]
    },
    {
      "cell_type": "code",
      "execution_count": null,
      "metadata": {},
      "outputs": [],
      "source": [
        "# Example 1: Circle Plot\n",
        "# Create bokeh figure object with title and dimensions\n",
        "# title: plot title, width: plot width in pixels, height: plot height in pixels\n",
        "p1 = figure(title=\"Circle Plot\", width=400, height=300)\n",
        "# Add circle glyphs to the plot\n",
        "# df['x']: x-coordinates, df['y']: y-coordinates, size: circle size\n",
        "# color: circle color, alpha: transparency (0=transparent, 1=opaque)\n",
        "p1.circle(df['x'], df['y'], size=15, color=\"navy\", alpha=0.6)\n",
        "# Display the plot in the notebook\n",
        "show(p1)\n",
        "\n",
        "# Example 2: Line Plot\n",
        "# Create second bokeh figure object with title and dimensions\n",
        "p2 = figure(title=\"Line Plot\", width=400, height=300)\n",
        "# Add line glyph connecting all points\n",
        "# df['x']: x-coordinates, df['y']: y-coordinates\n",
        "# line_width: thickness of line, color: line color\n",
        "p2.line(df['x'], df['y'], line_width=2, color='red')\n",
        "# Add circle markers at each data point\n",
        "# df['x']: x-coordinates, df['y']: y-coordinates\n",
        "# size: circle size, color: circle color\n",
        "p2.circle(df['x'], df['y'], size=8, color='red')\n",
        "# Display the plot in the notebook\n",
        "show(p2)"
      ]
    },
    {
      "cell_type": "markdown",
      "metadata": {},
      "source": [
        "## Summary\n",
        "\n",
        "| Library | Best For | Pros | Cons |\n",
        "|---------|----------|------|------|\n",
        "| **Matplotlib** | Basic plots, fine control | Flexible, widely used | Verbose syntax |\n",
        "| **Seaborn** | Statistical plots | Beautiful defaults, less code | Limited interactivity |\n",
        "| **Plotly** | Interactive dashboards | Web-ready, interactive | Larger file sizes |\n",
        "| **Bokeh** | Web applications | Interactive, scalable | Steeper learning curve |\n",
        "\n",
        "**Quick Tips:**\n",
        "- Start with **Matplotlib** for basic plots\n",
        "- Use **Seaborn** for statistical analysis\n",
        "- Choose **Plotly** for interactive reports\n",
        "- Pick **Bokeh** for web applications"
      ]
    }
  ],
  "metadata": {
    "kernelspec": {
      "display_name": "Python 3",
      "name": "python3"
    },
    "language_info": {
      "codemirror_mode": {
        "name": "ipython",
        "version": 3
      },
      "file_extension": ".py",
      "mimetype": "text/x-python",
      "name": "python",
      "nbconvert_exporter": "python",
      "pygments_lexer": "ipython3",
      "version": "3.8.5"
    }
  },
  "nbformat": 4,
  "nbformat_minor": 4
}